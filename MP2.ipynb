{
  "nbformat": 4,
  "nbformat_minor": 0,
  "metadata": {
    "colab": {
      "name": "MP2.ipynb",
      "provenance": []
    },
    "kernelspec": {
      "name": "python3",
      "display_name": "Python 3"
    },
    "language_info": {
      "name": "python"
    },
    "accelerator": "GPU"
  },
  "cells": [
    {
      "cell_type": "code",
      "metadata": {
        "id": "U1xtyLr_evFC"
      },
      "source": [
        ""
      ],
      "execution_count": null,
      "outputs": []
    },
    {
      "cell_type": "code",
      "metadata": {
        "colab": {
          "base_uri": "https://localhost:8080/"
        },
        "id": "vor75JDRevLE",
        "outputId": "0c34bbfb-03aa-4a4e-8c38-f5ea7720c2e6"
      },
      "source": [
        "!wget http://www.manythings.org/anki/deu-eng.zip\n"
      ],
      "execution_count": 1,
      "outputs": [
        {
          "output_type": "stream",
          "text": [
            "--2021-06-06 19:49:55--  http://www.manythings.org/anki/deu-eng.zip\n",
            "Resolving www.manythings.org (www.manythings.org)... 104.21.55.222, 172.67.173.198, 2606:4700:3036::ac43:adc6, ...\n",
            "Connecting to www.manythings.org (www.manythings.org)|104.21.55.222|:80... connected.\n",
            "HTTP request sent, awaiting response... 200 OK\n",
            "Length: 8850403 (8.4M) [application/zip]\n",
            "Saving to: ‘deu-eng.zip.1’\n",
            "\n",
            "deu-eng.zip.1       100%[===================>]   8.44M  4.23MB/s    in 2.0s    \n",
            "\n",
            "2021-06-06 19:49:57 (4.23 MB/s) - ‘deu-eng.zip.1’ saved [8850403/8850403]\n",
            "\n"
          ],
          "name": "stdout"
        }
      ]
    },
    {
      "cell_type": "code",
      "metadata": {
        "colab": {
          "base_uri": "https://localhost:8080/"
        },
        "id": "-u1yieasevQW",
        "outputId": "8245ecd0-827f-403f-ef00-b1b7275cc137"
      },
      "source": [
        "!unzip deu-eng.zip\n"
      ],
      "execution_count": 2,
      "outputs": [
        {
          "output_type": "stream",
          "text": [
            "Archive:  deu-eng.zip\n",
            "replace deu.txt? [y]es, [n]o, [A]ll, [N]one, [r]ename: y\n",
            "  inflating: deu.txt                 \n",
            "replace _about.txt? [y]es, [n]o, [A]ll, [N]one, [r]ename: A\n",
            "  inflating: _about.txt              \n"
          ],
          "name": "stdout"
        }
      ]
    },
    {
      "cell_type": "code",
      "metadata": {
        "id": "INcZf-isYJaS"
      },
      "source": [
        " import numpy as np\n",
        "import matplotlib.pyplot as plt\n",
        "import pandas as pd\n",
        "import cv2\n",
        "%matplotlib inline"
      ],
      "execution_count": 3,
      "outputs": []
    },
    {
      "cell_type": "code",
      "metadata": {
        "id": "9e0Dx_hpe2yM"
      },
      "source": [
        "def read_text(filename):\n",
        "  file=open(filename,encoding=\"utf-8\",mode=\"rt\")\n",
        "  text=file.read()\n",
        "  file.close()\n",
        "  return text"
      ],
      "execution_count": 4,
      "outputs": []
    },
    {
      "cell_type": "code",
      "metadata": {
        "id": "xHx8EabzfFkQ"
      },
      "source": [
        "def to_lines(text):\n",
        "  pairs=  text.strip().split(\"\\n\")\n",
        "  sents=[p.split(\"\\t\") for p in pairs]\n",
        "  return sents"
      ],
      "execution_count": 5,
      "outputs": []
    },
    {
      "cell_type": "code",
      "metadata": {
        "id": "BT18NCACfFnL"
      },
      "source": [
        "data=read_text(\"deu.txt\")"
      ],
      "execution_count": 6,
      "outputs": []
    },
    {
      "cell_type": "code",
      "metadata": {
        "id": "JEDIh8kIfFqT"
      },
      "source": [
        "deu_eng=to_lines(data)"
      ],
      "execution_count": 7,
      "outputs": []
    },
    {
      "cell_type": "code",
      "metadata": {
        "id": "GV3X5v01fFto"
      },
      "source": [
        "deu_eng=np.array(deu_eng)"
      ],
      "execution_count": 8,
      "outputs": []
    },
    {
      "cell_type": "code",
      "metadata": {
        "colab": {
          "base_uri": "https://localhost:8080/"
        },
        "id": "cI6kTyXFfFwu",
        "outputId": "3c7eb8dd-8897-4b67-df4f-e9ff773cf528"
      },
      "source": [
        "deu_eng[0]"
      ],
      "execution_count": 9,
      "outputs": [
        {
          "output_type": "execute_result",
          "data": {
            "text/plain": [
              "array(['Go.', 'Geh.',\n",
              "       'CC-BY 2.0 (France) Attribution: tatoeba.org #2877272 (CM) & #8597805 (Roujin)'],\n",
              "      dtype='<U537')"
            ]
          },
          "metadata": {
            "tags": []
          },
          "execution_count": 9
        }
      ]
    },
    {
      "cell_type": "code",
      "metadata": {
        "colab": {
          "base_uri": "https://localhost:8080/"
        },
        "id": "3yexc3O6fF2-",
        "outputId": "c4bd21af-ff1f-4ba7-e71a-92e595f5a6da"
      },
      "source": [
        "len(deu_eng)"
      ],
      "execution_count": 10,
      "outputs": [
        {
          "output_type": "execute_result",
          "data": {
            "text/plain": [
              "235901"
            ]
          },
          "metadata": {
            "tags": []
          },
          "execution_count": 10
        }
      ]
    },
    {
      "cell_type": "code",
      "metadata": {
        "id": "nsoq0ekQfF55"
      },
      "source": [
        "deu_eng=deu_eng[:50000,:]"
      ],
      "execution_count": 11,
      "outputs": []
    },
    {
      "cell_type": "code",
      "metadata": {
        "colab": {
          "base_uri": "https://localhost:8080/"
        },
        "id": "CpmEszNZh2PL",
        "outputId": "f71d0c6f-ea91-4b9e-893e-c2a54c8b98c6"
      },
      "source": [
        "deu_eng[:2]"
      ],
      "execution_count": 12,
      "outputs": [
        {
          "output_type": "execute_result",
          "data": {
            "text/plain": [
              "array([['Go.', 'Geh.',\n",
              "        'CC-BY 2.0 (France) Attribution: tatoeba.org #2877272 (CM) & #8597805 (Roujin)'],\n",
              "       ['Hi.', 'Hallo!',\n",
              "        'CC-BY 2.0 (France) Attribution: tatoeba.org #538123 (CM) & #380701 (cburgmer)']],\n",
              "      dtype='<U537')"
            ]
          },
          "metadata": {
            "tags": []
          },
          "execution_count": 12
        }
      ]
    },
    {
      "cell_type": "code",
      "metadata": {
        "id": "4M_xjjrkh505"
      },
      "source": [
        "#remove punctuation\n",
        "\n",
        "import string\n",
        "\n",
        "deu_eng[:,0]=[s.translate(str.maketrans(\"\",\"\",string.punctuation)) for s in deu_eng[:,0]]\n",
        "deu_eng[:,1]=[s.translate(str.maketrans(\"\",\"\",string.punctuation)) for s in deu_eng[:,1]]\n",
        "\n",
        "#first parameter we want to replace any character second parameter is repalce with whom"
      ],
      "execution_count": 13,
      "outputs": []
    },
    {
      "cell_type": "code",
      "metadata": {
        "colab": {
          "base_uri": "https://localhost:8080/"
        },
        "id": "FUpt6yjHkAZr",
        "outputId": "99ca1f8a-5bcf-49bc-d5d8-b091b9d7efbd"
      },
      "source": [
        "deu_eng[:3]"
      ],
      "execution_count": 14,
      "outputs": [
        {
          "output_type": "execute_result",
          "data": {
            "text/plain": [
              "array([['Go', 'Geh',\n",
              "        'CC-BY 2.0 (France) Attribution: tatoeba.org #2877272 (CM) & #8597805 (Roujin)'],\n",
              "       ['Hi', 'Hallo',\n",
              "        'CC-BY 2.0 (France) Attribution: tatoeba.org #538123 (CM) & #380701 (cburgmer)'],\n",
              "       ['Hi', 'Grüß Gott',\n",
              "        'CC-BY 2.0 (France) Attribution: tatoeba.org #538123 (CM) & #659813 (Esperantostern)']],\n",
              "      dtype='<U537')"
            ]
          },
          "metadata": {
            "tags": []
          },
          "execution_count": 14
        }
      ]
    },
    {
      "cell_type": "code",
      "metadata": {
        "id": "QY68Mb2EkDd_"
      },
      "source": [
        "for i in range(len(deu_eng)):\n",
        "  deu_eng[i,0]=deu_eng[i,0].lower()\n",
        "  deu_eng[i,1]=deu_eng[i,1].lower()"
      ],
      "execution_count": 15,
      "outputs": []
    },
    {
      "cell_type": "code",
      "metadata": {
        "colab": {
          "base_uri": "https://localhost:8080/"
        },
        "id": "wlAukf08kVnQ",
        "outputId": "9202e896-01c7-465e-e079-595b4b1b47ae"
      },
      "source": [
        "deu_eng[:3]\n"
      ],
      "execution_count": 16,
      "outputs": [
        {
          "output_type": "execute_result",
          "data": {
            "text/plain": [
              "array([['go', 'geh',\n",
              "        'CC-BY 2.0 (France) Attribution: tatoeba.org #2877272 (CM) & #8597805 (Roujin)'],\n",
              "       ['hi', 'hallo',\n",
              "        'CC-BY 2.0 (France) Attribution: tatoeba.org #538123 (CM) & #380701 (cburgmer)'],\n",
              "       ['hi', 'grüß gott',\n",
              "        'CC-BY 2.0 (France) Attribution: tatoeba.org #538123 (CM) & #659813 (Esperantostern)']],\n",
              "      dtype='<U537')"
            ]
          },
          "metadata": {
            "tags": []
          },
          "execution_count": 16
        }
      ]
    },
    {
      "cell_type": "code",
      "metadata": {
        "id": "1fPGaMR9kbA7"
      },
      "source": [
        "eng_len=[len(s.split())for s in deu_eng[:,0]]\n",
        "deu_len=[len(s.split())for s in deu_eng[:,1]]\n"
      ],
      "execution_count": 17,
      "outputs": []
    },
    {
      "cell_type": "code",
      "metadata": {
        "id": "woTt9wS4k_sM"
      },
      "source": [
        "lengths_df=pd.DataFrame({\"eng\":eng_len,\"deu\":deu_len})"
      ],
      "execution_count": 18,
      "outputs": []
    },
    {
      "cell_type": "code",
      "metadata": {
        "colab": {
          "base_uri": "https://localhost:8080/",
          "height": 281
        },
        "id": "OWTk8wwglSmb",
        "outputId": "5de51070-9fb4-40ba-dfa7-494639f868be"
      },
      "source": [
        "lengths_df.hist(bins=30)\n",
        "plt.show()"
      ],
      "execution_count": 19,
      "outputs": [
        {
          "output_type": "display_data",
          "data": {
            "image/png": "[encoded data removed]",
            "text/plain": [
              "<Figure size 432x288 with 2 Axes>"
            ]
          },
          "metadata": {
            "tags": [],
            "needs_background": "light"
          }
        }
      ]
    },
    {
      "cell_type": "code",
      "metadata": {
        "colab": {
          "base_uri": "https://localhost:8080/"
        },
        "id": "KqiIprlKlZlr",
        "outputId": "826c26fc-1433-47cf-d809-77c941404aa3"
      },
      "source": [
        "max(eng_len),max(deu_len)"
      ],
      "execution_count": 20,
      "outputs": [
        {
          "output_type": "execute_result",
          "data": {
            "text/plain": [
              "(6, 15)"
            ]
          },
          "metadata": {
            "tags": []
          },
          "execution_count": 20
        }
      ]
    },
    {
      "cell_type": "code",
      "metadata": {
        "id": "a5PhE3ZAlmYa"
      },
      "source": [
        "from keras.preprocessing.text import Tokenizer"
      ],
      "execution_count": 21,
      "outputs": []
    },
    {
      "cell_type": "code",
      "metadata": {
        "id": "ECuU3nonl6td"
      },
      "source": [
        "from keras.preprocessing.sequence import pad_sequences"
      ],
      "execution_count": 22,
      "outputs": []
    },
    {
      "cell_type": "code",
      "metadata": {
        "colab": {
          "base_uri": "https://localhost:8080/"
        },
        "id": "z79ktk2GmAy3",
        "outputId": "29404f35-a81d-4450-9dd5-507226d2b637"
      },
      "source": [
        "eng_tokenizer=Tokenizer()\n",
        "eng_tokenizer.fit_on_texts(deu_eng[:,0])\n",
        "eng_tokenizer.word_index #word_index is dictonary  where it compute what should be index\n",
        "\n"
      ],
      "execution_count": 23,
      "outputs": [
        {
          "output_type": "execute_result",
          "data": {
            "text/plain": [
              "{'tom': 1,\n",
              " 'i': 2,\n",
              " 'you': 3,\n",
              " 'is': 4,\n",
              " 'a': 5,\n",
              " 'it': 6,\n",
              " 'the': 7,\n",
              " 'to': 8,\n",
              " 'im': 9,\n",
              " 'me': 10,\n",
              " 'do': 11,\n",
              " 'that': 12,\n",
              " 'was': 13,\n",
              " 'this': 14,\n",
              " 'he': 15,\n",
              " 'we': 16,\n",
              " 'are': 17,\n",
              " 'my': 18,\n",
              " 'have': 19,\n",
              " 'dont': 20,\n",
              " 'your': 21,\n",
              " 'did': 22,\n",
              " 'its': 23,\n",
              " 'not': 24,\n",
              " 'like': 25,\n",
              " 'can': 26,\n",
              " 'youre': 27,\n",
              " 'go': 28,\n",
              " 'be': 29,\n",
              " 'were': 30,\n",
              " 'here': 31,\n",
              " 'in': 32,\n",
              " 'what': 33,\n",
              " 'she': 34,\n",
              " 'very': 35,\n",
              " 'now': 36,\n",
              " 'they': 37,\n",
              " 'know': 38,\n",
              " 'ill': 39,\n",
              " 'on': 40,\n",
              " 'has': 41,\n",
              " 'isnt': 42,\n",
              " 'cant': 43,\n",
              " 'thats': 44,\n",
              " 'want': 45,\n",
              " 'up': 46,\n",
              " 'for': 47,\n",
              " 'how': 48,\n",
              " 'get': 49,\n",
              " 'need': 50,\n",
              " 'toms': 51,\n",
              " 'come': 52,\n",
              " 'no': 53,\n",
              " 'too': 54,\n",
              " 'at': 55,\n",
              " 'why': 56,\n",
              " 'good': 57,\n",
              " 'who': 58,\n",
              " 'of': 59,\n",
              " 'him': 60,\n",
              " 'help': 61,\n",
              " 'one': 62,\n",
              " 'will': 63,\n",
              " 'us': 64,\n",
              " 'please': 65,\n",
              " 'out': 66,\n",
              " 'all': 67,\n",
              " 'got': 68,\n",
              " 'just': 69,\n",
              " 'his': 70,\n",
              " 'love': 71,\n",
              " 'there': 72,\n",
              " 'well': 73,\n",
              " 'home': 74,\n",
              " 'mary': 75,\n",
              " 'really': 76,\n",
              " 'see': 77,\n",
              " 'with': 78,\n",
              " 'didnt': 79,\n",
              " 'stop': 80,\n",
              " 'look': 81,\n",
              " 'am': 82,\n",
              " 'car': 83,\n",
              " 'never': 84,\n",
              " 'an': 85,\n",
              " 'take': 86,\n",
              " 'hes': 87,\n",
              " 'lets': 88,\n",
              " 'where': 89,\n",
              " 'so': 90,\n",
              " 'her': 91,\n",
              " 'wasnt': 92,\n",
              " 'let': 93,\n",
              " 'back': 94,\n",
              " 'give': 95,\n",
              " 'may': 96,\n",
              " 'work': 97,\n",
              " 'think': 98,\n",
              " 'whats': 99,\n",
              " 'must': 100,\n",
              " 'made': 101,\n",
              " 'had': 102,\n",
              " 'wont': 103,\n",
              " 'theyre': 104,\n",
              " 'eat': 105,\n",
              " 'saw': 106,\n",
              " 'tell': 107,\n",
              " 'ive': 108,\n",
              " 'try': 109,\n",
              " 'still': 110,\n",
              " 'about': 111,\n",
              " 'busy': 112,\n",
              " 'happy': 113,\n",
              " 'likes': 114,\n",
              " 'lost': 115,\n",
              " 'does': 116,\n",
              " 'dog': 117,\n",
              " 'book': 118,\n",
              " 'money': 119,\n",
              " 'again': 120,\n",
              " 'down': 121,\n",
              " 'right': 122,\n",
              " 'leave': 123,\n",
              " 'off': 124,\n",
              " 'going': 125,\n",
              " 'time': 126,\n",
              " 'looks': 127,\n",
              " 'today': 128,\n",
              " 'say': 129,\n",
              " 'bad': 130,\n",
              " 'call': 131,\n",
              " 'keep': 132,\n",
              " 'went': 133,\n",
              " 'them': 134,\n",
              " 'away': 135,\n",
              " 'arent': 136,\n",
              " 'should': 137,\n",
              " 'wheres': 138,\n",
              " 'and': 139,\n",
              " 'our': 140,\n",
              " 'lot': 141,\n",
              " 'wait': 142,\n",
              " 'job': 143,\n",
              " 'came': 144,\n",
              " 'alone': 145,\n",
              " 'feel': 146,\n",
              " 'cold': 147,\n",
              " 'big': 148,\n",
              " 'hate': 149,\n",
              " 'some': 150,\n",
              " 'could': 151,\n",
              " 'new': 152,\n",
              " 'stay': 153,\n",
              " 'make': 154,\n",
              " 'read': 155,\n",
              " 'ask': 156,\n",
              " 'over': 157,\n",
              " 'tired': 158,\n",
              " 'nice': 159,\n",
              " 'old': 160,\n",
              " 'find': 161,\n",
              " 'nobody': 162,\n",
              " 'ok': 163,\n",
              " 'late': 164,\n",
              " 'hard': 165,\n",
              " 'loves': 166,\n",
              " 'much': 167,\n",
              " 'hurt': 168,\n",
              " 'knows': 169,\n",
              " 'said': 170,\n",
              " 'always': 171,\n",
              " 'drink': 172,\n",
              " 'knew': 173,\n",
              " 'talk': 174,\n",
              " 'gave': 175,\n",
              " 'miss': 176,\n",
              " 'already': 177,\n",
              " 'ready': 178,\n",
              " 'man': 179,\n",
              " 'when': 180,\n",
              " 'open': 181,\n",
              " 'room': 182,\n",
              " 'fast': 183,\n",
              " 'looked': 184,\n",
              " 'wants': 185,\n",
              " 'french': 186,\n",
              " 'day': 187,\n",
              " 'put': 188,\n",
              " 'found': 189,\n",
              " 'boston': 190,\n",
              " 'left': 191,\n",
              " 'wrong': 192,\n",
              " 'id': 193,\n",
              " 'these': 194,\n",
              " 'play': 195,\n",
              " 'fun': 196,\n",
              " 'coming': 197,\n",
              " 'seems': 198,\n",
              " 'took': 199,\n",
              " 'more': 200,\n",
              " 'everyone': 201,\n",
              " 'watch': 202,\n",
              " 'hope': 203,\n",
              " 'hungry': 204,\n",
              " 'shes': 205,\n",
              " 'door': 206,\n",
              " 'live': 207,\n",
              " 'whos': 208,\n",
              " 'true': 209,\n",
              " 'house': 210,\n",
              " 'ran': 211,\n",
              " 'angry': 212,\n",
              " 'way': 213,\n",
              " 'yours': 214,\n",
              " 'great': 215,\n",
              " 'would': 216,\n",
              " 'buy': 217,\n",
              " 'turn': 218,\n",
              " 'sick': 219,\n",
              " 'felt': 220,\n",
              " 'hot': 221,\n",
              " 'by': 222,\n",
              " 'almost': 223,\n",
              " 'speak': 224,\n",
              " 'doing': 225,\n",
              " 'nothing': 226,\n",
              " 'yet': 227,\n",
              " 'cat': 228,\n",
              " 'doesnt': 229,\n",
              " 'only': 230,\n",
              " 'youll': 231,\n",
              " 'from': 232,\n",
              " 'died': 233,\n",
              " 'better': 234,\n",
              " 'use': 235,\n",
              " 'bought': 236,\n",
              " 'told': 237,\n",
              " 'fine': 238,\n",
              " 'been': 239,\n",
              " 'life': 240,\n",
              " 'sure': 241,\n",
              " 'early': 242,\n",
              " 'swim': 243,\n",
              " 'sing': 244,\n",
              " 'broke': 245,\n",
              " 'mine': 246,\n",
              " 'school': 247,\n",
              " 'everybody': 248,\n",
              " 'mean': 249,\n",
              " 'tv': 250,\n",
              " 'youve': 251,\n",
              " 'long': 252,\n",
              " 'soon': 253,\n",
              " 'boy': 254,\n",
              " 'needs': 255,\n",
              " 'hair': 256,\n",
              " 'water': 257,\n",
              " 'called': 258,\n",
              " 'something': 259,\n",
              " 'win': 260,\n",
              " 'beer': 261,\n",
              " 'father': 262,\n",
              " 'red': 263,\n",
              " 'met': 264,\n",
              " 'lie': 265,\n",
              " 'heard': 266,\n",
              " 'ate': 267,\n",
              " 'tried': 268,\n",
              " 'as': 269,\n",
              " 'eyes': 270,\n",
              " 'friends': 271,\n",
              " 'drunk': 272,\n",
              " 'bed': 273,\n",
              " 'friend': 274,\n",
              " 'pay': 275,\n",
              " 'rich': 276,\n",
              " 'bit': 277,\n",
              " 'listen': 278,\n",
              " 'trust': 279,\n",
              " 'coffee': 280,\n",
              " 'wanted': 281,\n",
              " 'kept': 282,\n",
              " 'idea': 283,\n",
              " 'name': 284,\n",
              " 'tea': 285,\n",
              " 'teacher': 286,\n",
              " 'run': 287,\n",
              " 'doctor': 288,\n",
              " 'hurry': 289,\n",
              " 'mad': 290,\n",
              " 'dead': 291,\n",
              " 'walk': 292,\n",
              " 'done': 293,\n",
              " 'working': 294,\n",
              " 'quite': 295,\n",
              " 'answer': 296,\n",
              " 'two': 297,\n",
              " 'safe': 298,\n",
              " 'weve': 299,\n",
              " 'bring': 300,\n",
              " 'fish': 301,\n",
              " 'believe': 302,\n",
              " 'cry': 303,\n",
              " 'bus': 304,\n",
              " 'crying': 305,\n",
              " 'watching': 306,\n",
              " 'hit': 307,\n",
              " 'gone': 308,\n",
              " 'hear': 309,\n",
              " 'afraid': 310,\n",
              " 'stupid': 311,\n",
              " 'whose': 312,\n",
              " 'works': 313,\n",
              " 'sit': 314,\n",
              " 'started': 315,\n",
              " 'married': 316,\n",
              " 'show': 317,\n",
              " 'stopped': 318,\n",
              " 'quiet': 319,\n",
              " 'lives': 320,\n",
              " 'sad': 321,\n",
              " 'easy': 322,\n",
              " 'hat': 323,\n",
              " 'both': 324,\n",
              " 'those': 325,\n",
              " 'enough': 326,\n",
              " 'everything': 327,\n",
              " 'getting': 328,\n",
              " 'won': 329,\n",
              " 'next': 330,\n",
              " 'sleep': 331,\n",
              " 'food': 332,\n",
              " 'books': 333,\n",
              " 'family': 334,\n",
              " 'study': 335,\n",
              " 'drive': 336,\n",
              " 'start': 337,\n",
              " 'wife': 338,\n",
              " 'die': 339,\n",
              " 'forget': 340,\n",
              " 'sorry': 341,\n",
              " 'yourself': 342,\n",
              " 'upset': 343,\n",
              " 'sat': 344,\n",
              " 'three': 345,\n",
              " 'free': 346,\n",
              " 'cook': 347,\n",
              " 'crazy': 348,\n",
              " 'night': 349,\n",
              " 'asleep': 350,\n",
              " 'milk': 351,\n",
              " 'hates': 352,\n",
              " 'tomorrow': 353,\n",
              " 'plan': 354,\n",
              " 'phone': 355,\n",
              " 'seemed': 356,\n",
              " 'became': 357,\n",
              " 'wine': 358,\n",
              " 'once': 359,\n",
              " 'kids': 360,\n",
              " 'often': 361,\n",
              " 'outside': 362,\n",
              " 'might': 363,\n",
              " 'changed': 364,\n",
              " 'lying': 365,\n",
              " 'scared': 366,\n",
              " 'asked': 367,\n",
              " 'wrote': 368,\n",
              " 'pretty': 369,\n",
              " 'people': 370,\n",
              " 'any': 371,\n",
              " 'real': 372,\n",
              " 'first': 373,\n",
              " 'loved': 374,\n",
              " 'problem': 375,\n",
              " 'happened': 376,\n",
              " 'enjoy': 377,\n",
              " 'seen': 378,\n",
              " 'change': 379,\n",
              " 'shoes': 380,\n",
              " 'thanks': 381,\n",
              " 'kind': 382,\n",
              " 'follow': 383,\n",
              " 'eating': 384,\n",
              " 'owe': 385,\n",
              " 'young': 386,\n",
              " 'kiss': 387,\n",
              " 'hands': 388,\n",
              " 'anyone': 389,\n",
              " 'nervous': 390,\n",
              " 'theres': 391,\n",
              " 'meet': 392,\n",
              " 'anything': 393,\n",
              " 'hand': 394,\n",
              " 'son': 395,\n",
              " 'tall': 396,\n",
              " 'shot': 397,\n",
              " 'missed': 398,\n",
              " 'quickly': 399,\n",
              " 'hold': 400,\n",
              " 'check': 401,\n",
              " 'lunch': 402,\n",
              " 'wish': 403,\n",
              " 'best': 404,\n",
              " 'running': 405,\n",
              " 'key': 406,\n",
              " 'heres': 407,\n",
              " 'began': 408,\n",
              " 'serious': 409,\n",
              " 'remember': 410,\n",
              " 'quit': 411,\n",
              " 'stand': 412,\n",
              " 'close': 413,\n",
              " 'mind': 414,\n",
              " 'joke': 415,\n",
              " 'reading': 416,\n",
              " 'little': 417,\n",
              " 'kill': 418,\n",
              " 'inside': 419,\n",
              " 'liked': 420,\n",
              " 'many': 421,\n",
              " 'happen': 422,\n",
              " 'caught': 423,\n",
              " 'agree': 424,\n",
              " 'dogs': 425,\n",
              " 'itll': 426,\n",
              " 'break': 427,\n",
              " 'cats': 428,\n",
              " 'funny': 429,\n",
              " 'singing': 430,\n",
              " 'sweet': 431,\n",
              " 'couldnt': 432,\n",
              " 'hurts': 433,\n",
              " 'around': 434,\n",
              " 'careful': 435,\n",
              " 'looking': 436,\n",
              " 'which': 437,\n",
              " 'fire': 438,\n",
              " 'fell': 439,\n",
              " 'touch': 440,\n",
              " 'dark': 441,\n",
              " 'lawyer': 442,\n",
              " 'small': 443,\n",
              " 'worried': 444,\n",
              " 'turned': 445,\n",
              " 'move': 446,\n",
              " 'later': 447,\n",
              " 'rest': 448,\n",
              " 'understand': 449,\n",
              " 'arrived': 450,\n",
              " 'sister': 451,\n",
              " 'lied': 452,\n",
              " 'cool': 453,\n",
              " 'shut': 454,\n",
              " 'helped': 455,\n",
              " 'laughed': 456,\n",
              " 'bored': 457,\n",
              " 'thank': 458,\n",
              " 'brother': 459,\n",
              " 'hows': 460,\n",
              " 'seat': 461,\n",
              " 'bag': 462,\n",
              " 'black': 463,\n",
              " 'maybe': 464,\n",
              " 'mother': 465,\n",
              " 'else': 466,\n",
              " 'after': 467,\n",
              " 'keys': 468,\n",
              " 'fat': 469,\n",
              " 'glad': 470,\n",
              " 'even': 471,\n",
              " 'lucky': 472,\n",
              " 'dinner': 473,\n",
              " 'word': 474,\n",
              " 'being': 475,\n",
              " 'used': 476,\n",
              " 'perfect': 477,\n",
              " 'awake': 478,\n",
              " 'walked': 479,\n",
              " 'simple': 480,\n",
              " 'dance': 481,\n",
              " 'dream': 482,\n",
              " 'ones': 483,\n",
              " 'yes': 484,\n",
              " 'talking': 485,\n",
              " 'truth': 486,\n",
              " 'into': 487,\n",
              " 'born': 488,\n",
              " 'smart': 489,\n",
              " 'girl': 490,\n",
              " 'anybody': 491,\n",
              " 'someone': 492,\n",
              " 'horse': 493,\n",
              " 'fault': 494,\n",
              " 'guys': 495,\n",
              " 'yesterday': 496,\n",
              " 'worked': 497,\n",
              " 'cut': 498,\n",
              " 'smoke': 499,\n",
              " 'short': 500,\n",
              " 'sounds': 501,\n",
              " 'killed': 502,\n",
              " 'paid': 503,\n",
              " 'write': 504,\n",
              " 'calm': 505,\n",
              " 'sign': 506,\n",
              " 'clean': 507,\n",
              " 'jealous': 508,\n",
              " 'theyll': 509,\n",
              " 'dirty': 510,\n",
              " 'english': 511,\n",
              " 'boss': 512,\n",
              " 'heart': 513,\n",
              " 'care': 514,\n",
              " 'beat': 515,\n",
              " 'cute': 516,\n",
              " 'bet': 517,\n",
              " 'last': 518,\n",
              " 'another': 519,\n",
              " 'music': 520,\n",
              " 'canadian': 521,\n",
              " 'joking': 522,\n",
              " 'closed': 523,\n",
              " 'needed': 524,\n",
              " 'own': 525,\n",
              " 'cannot': 526,\n",
              " 'confused': 527,\n",
              " 'shy': 528,\n",
              " 'fired': 529,\n",
              " 'poor': 530,\n",
              " 'face': 531,\n",
              " 'hey': 532,\n",
              " 'pen': 533,\n",
              " 'student': 534,\n",
              " 'says': 535,\n",
              " 'youd': 536,\n",
              " 'makes': 537,\n",
              " 'train': 538,\n",
              " 'story': 539,\n",
              " 'spoke': 540,\n",
              " 'smiled': 541,\n",
              " 'full': 542,\n",
              " 'head': 543,\n",
              " 'far': 544,\n",
              " 'white': 545,\n",
              " 'count': 546,\n",
              " 'bread': 547,\n",
              " 'blue': 548,\n",
              " 'rain': 549,\n",
              " 'cake': 550,\n",
              " 'monday': 551,\n",
              " 'sleeping': 552,\n",
              " 'box': 553,\n",
              " 'news': 554,\n",
              " 'light': 555,\n",
              " 'glasses': 556,\n",
              " 'person': 557,\n",
              " 'stood': 558,\n",
              " 'lonely': 559,\n",
              " 'kidding': 560,\n",
              " 'thirsty': 561,\n",
              " 'lose': 562,\n",
              " 'guy': 563,\n",
              " 'fair': 564,\n",
              " 'stayed': 565,\n",
              " 'lazy': 566,\n",
              " 'dying': 567,\n",
              " 'warm': 568,\n",
              " 'sleepy': 569,\n",
              " 'strong': 570,\n",
              " 'alive': 571,\n",
              " 'broken': 572,\n",
              " 'secret': 573,\n",
              " 'invited': 574,\n",
              " 'finished': 575,\n",
              " 'mom': 576,\n",
              " 'order': 577,\n",
              " 'seem': 578,\n",
              " 'himself': 579,\n",
              " 'brave': 580,\n",
              " 'snow': 581,\n",
              " 'correct': 582,\n",
              " 'explain': 583,\n",
              " 'apple': 584,\n",
              " 'bike': 585,\n",
              " 'somebody': 586,\n",
              " 'bicycle': 587,\n",
              " 'fix': 588,\n",
              " 'men': 589,\n",
              " 'feet': 590,\n",
              " 'things': 591,\n",
              " 'or': 592,\n",
              " 'throw': 593,\n",
              " 'opened': 594,\n",
              " 'knife': 595,\n",
              " 'week': 596,\n",
              " 'trouble': 597,\n",
              " 'every': 598,\n",
              " 'children': 599,\n",
              " 'cried': 600,\n",
              " 'weak': 601,\n",
              " 'fly': 602,\n",
              " 'slept': 603,\n",
              " 'meat': 604,\n",
              " 'send': 605,\n",
              " 'myself': 606,\n",
              " 'pizza': 607,\n",
              " 'empty': 608,\n",
              " 'writing': 609,\n",
              " 'beautiful': 610,\n",
              " 'surprised': 611,\n",
              " 'excited': 612,\n",
              " 'than': 613,\n",
              " 'wouldnt': 614,\n",
              " 'waited': 615,\n",
              " 'patient': 616,\n",
              " 'boring': 617,\n",
              " 'ice': 618,\n",
              " 'strange': 619,\n",
              " 'blame': 620,\n",
              " 'child': 621,\n",
              " 'leaving': 622,\n",
              " 'kissed': 623,\n",
              " 'thought': 624,\n",
              " 'song': 625,\n",
              " 'betrayed': 626,\n",
              " 'wear': 627,\n",
              " 'wake': 628,\n",
              " 'failed': 629,\n",
              " 'forgot': 630,\n",
              " 'talked': 631,\n",
              " 'guess': 632,\n",
              " 'liar': 633,\n",
              " 'curious': 634,\n",
              " 'saved': 635,\n",
              " 'pain': 636,\n",
              " 'gets': 637,\n",
              " 'gun': 638,\n",
              " 'girls': 639,\n",
              " 'table': 640,\n",
              " 'question': 641,\n",
              " 'shoot': 642,\n",
              " 'hug': 643,\n",
              " 'sang': 644,\n",
              " 'drank': 645,\n",
              " 'harder': 646,\n",
              " 'war': 647,\n",
              " 'woman': 648,\n",
              " 'tennis': 649,\n",
              " 'rules': 650,\n",
              " 'whatll': 651,\n",
              " 'picture': 652,\n",
              " 'tie': 653,\n",
              " 'ever': 654,\n",
              " 'catch': 655,\n",
              " 'ahead': 656,\n",
              " 'age': 657,\n",
              " 'sent': 658,\n",
              " 'coat': 659,\n",
              " 'japanese': 660,\n",
              " 'taxi': 661,\n",
              " 'trusted': 662,\n",
              " 'laughing': 663,\n",
              " 'letter': 664,\n",
              " 'making': 665,\n",
              " 'taking': 666,\n",
              " 'voice': 667,\n",
              " 'thing': 668,\n",
              " 'wet': 669,\n",
              " 'welcome': 670,\n",
              " 'duty': 671,\n",
              " 'drives': 672,\n",
              " 'boys': 673,\n",
              " 'upstairs': 674,\n",
              " 'nose': 675,\n",
              " 'important': 676,\n",
              " 'danger': 677,\n",
              " 'together': 678,\n",
              " 'honest': 679,\n",
              " 'second': 680,\n",
              " 'party': 681,\n",
              " 'badly': 682,\n",
              " 'decision': 683,\n",
              " 'tonight': 684,\n",
              " 'thirty': 685,\n",
              " 'pick': 686,\n",
              " 'worry': 687,\n",
              " 'deny': 688,\n",
              " 'watched': 689,\n",
              " 'apples': 690,\n",
              " 'arm': 691,\n",
              " 'listening': 692,\n",
              " 'worse': 693,\n",
              " 'possible': 694,\n",
              " 'baby': 695,\n",
              " 'fishing': 696,\n",
              " 'park': 697,\n",
              " 'behind': 698,\n",
              " 'movie': 699,\n",
              " 'believes': 700,\n",
              " 'mistake': 701,\n",
              " 'shirt': 702,\n",
              " 'wearing': 703,\n",
              " 'begin': 704,\n",
              " 'tomll': 705,\n",
              " 'god': 706,\n",
              " 'fit': 707,\n",
              " 'laugh': 708,\n",
              " 'eggs': 709,\n",
              " 'learn': 710,\n",
              " 'smoking': 711,\n",
              " 'downstairs': 712,\n",
              " 'normal': 713,\n",
              " 'six': 714,\n",
              " 'ball': 715,\n",
              " 'playing': 716,\n",
              " 'pleased': 717,\n",
              " 'window': 718,\n",
              " 'place': 719,\n",
              " '230': 720,\n",
              " 'sound': 721,\n",
              " 'smile': 722,\n",
              " 'save': 723,\n",
              " 'cheated': 724,\n",
              " 'woke': 725,\n",
              " 'blind': 726,\n",
              " 'ours': 727,\n",
              " 'step': 728,\n",
              " 'smell': 729,\n",
              " 'dad': 730,\n",
              " 'naive': 731,\n",
              " 'shall': 732,\n",
              " 'map': 733,\n",
              " 'kid': 734,\n",
              " 'expert': 735,\n",
              " 'bird': 736,\n",
              " 'comes': 737,\n",
              " 'boat': 738,\n",
              " 'cup': 739,\n",
              " 'same': 740,\n",
              " 'such': 741,\n",
              " 'speaks': 742,\n",
              " 'choice': 743,\n",
              " 'bank': 744,\n",
              " 'drove': 745,\n",
              " 'ugly': 746,\n",
              " 'warn': 747,\n",
              " 'weird': 748,\n",
              " 'tough': 749,\n",
              " 'forgive': 750,\n",
              " 'clever': 751,\n",
              " 'vote': 752,\n",
              " 'luck': 753,\n",
              " 'dancing': 754,\n",
              " 'slow': 755,\n",
              " 'dress': 756,\n",
              " 'smells': 757,\n",
              " 'parents': 758,\n",
              " 'truck': 759,\n",
              " 'worth': 760,\n",
              " 'desk': 761,\n",
              " 'advice': 762,\n",
              " 'swimming': 763,\n",
              " 'afford': 764,\n",
              " 'if': 765,\n",
              " 'legs': 766,\n",
              " 'pencil': 767,\n",
              " 'driver': 768,\n",
              " 'rude': 769,\n",
              " 'agreed': 770,\n",
              " 'slowly': 771,\n",
              " 'winning': 772,\n",
              " 'talks': 773,\n",
              " 'stole': 774,\n",
              " 'jokes': 775,\n",
              " 'meant': 776,\n",
              " 'guilty': 777,\n",
              " 'pale': 778,\n",
              " 'cooking': 779,\n",
              " 'waiting': 780,\n",
              " 'enemy': 781,\n",
              " 'bill': 782,\n",
              " 'feeling': 783,\n",
              " 'marys': 784,\n",
              " 'werent': 785,\n",
              " 'whatre': 786,\n",
              " 'game': 787,\n",
              " 'promise': 788,\n",
              " 'moved': 789,\n",
              " 'along': 790,\n",
              " 'air': 791,\n",
              " 'famous': 792,\n",
              " 'eaten': 793,\n",
              " 'contact': 794,\n",
              " 'hated': 795,\n",
              " 'locked': 796,\n",
              " 'half': 797,\n",
              " 'studying': 798,\n",
              " 'snowing': 799,\n",
              " 'impressed': 800,\n",
              " 'missing': 801,\n",
              " 'succeed': 802,\n",
              " 'city': 803,\n",
              " 'their': 804,\n",
              " 'summer': 805,\n",
              " 'brothers': 806,\n",
              " 'removed': 807,\n",
              " 'havent': 808,\n",
              " 'message': 809,\n",
              " 'before': 810,\n",
              " 'mood': 811,\n",
              " 'other': 812,\n",
              " 'hi': 813,\n",
              " 'rice': 814,\n",
              " 'return': 815,\n",
              " 'bath': 816,\n",
              " 'hugged': 817,\n",
              " 'sell': 818,\n",
              " 'set': 819,\n",
              " 'fed': 820,\n",
              " 'artist': 821,\n",
              " 'minute': 822,\n",
              " 'warned': 823,\n",
              " 'polite': 824,\n",
              " 'golf': 825,\n",
              " 'believed': 826,\n",
              " 'handle': 827,\n",
              " 'wore': 828,\n",
              " 'trip': 829,\n",
              " 'everyones': 830,\n",
              " 'proud': 831,\n",
              " 'expensive': 832,\n",
              " 'relax': 833,\n",
              " 'drop': 834,\n",
              " 'wash': 835,\n",
              " 'dry': 836,\n",
              " 'moving': 837,\n",
              " 'hero': 838,\n",
              " 'green': 839,\n",
              " 'thatll': 840,\n",
              " 'fight': 841,\n",
              " 'cash': 842,\n",
              " 'unlucky': 843,\n",
              " 'noticed': 844,\n",
              " 'rarely': 845,\n",
              " 'fighting': 846,\n",
              " 'raining': 847,\n",
              " 'answered': 848,\n",
              " 'hide': 849,\n",
              " 'horses': 850,\n",
              " 'depressed': 851,\n",
              " 'saying': 852,\n",
              " 'moment': 853,\n",
              " 'raised': 854,\n",
              " 'death': 855,\n",
              " 'accept': 856,\n",
              " 'enjoyed': 857,\n",
              " 'diary': 858,\n",
              " 'interested': 859,\n",
              " 'plays': 860,\n",
              " 'barely': 861,\n",
              " 'camera': 862,\n",
              " 'cheap': 863,\n",
              " 'chance': 864,\n",
              " 'breakfast': 865,\n",
              " 'longer': 866,\n",
              " 'runs': 867,\n",
              " 'deep': 868,\n",
              " 'retired': 869,\n",
              " 'ignore': 870,\n",
              " 'jump': 871,\n",
              " 'losing': 872,\n",
              " 'scream': 873,\n",
              " 'nurse': 874,\n",
              " 'healthy': 875,\n",
              " 'list': 876,\n",
              " 'nuts': 877,\n",
              " 'mess': 878,\n",
              " 'team': 879,\n",
              " 'ship': 880,\n",
              " 'naked': 881,\n",
              " 'women': 882,\n",
              " 'piano': 883,\n",
              " 'seldom': 884,\n",
              " 'fool': 885,\n",
              " 'coward': 886,\n",
              " 'singer': 887,\n",
              " 'heavy': 888,\n",
              " 'scare': 889,\n",
              " 'chess': 890,\n",
              " 'cars': 891,\n",
              " 'line': 892,\n",
              " 'satisfied': 893,\n",
              " 'helping': 894,\n",
              " 'amazing': 895,\n",
              " 'cousins': 896,\n",
              " 'point': 897,\n",
              " 'high': 898,\n",
              " 'bananas': 899,\n",
              " 'having': 900,\n",
              " 'hour': 901,\n",
              " 'noise': 902,\n",
              " 'soccer': 903,\n",
              " 'terrible': 904,\n",
              " 'regret': 905,\n",
              " 'join': 906,\n",
              " 'helps': 907,\n",
              " 'birds': 908,\n",
              " 'excuse': 909,\n",
              " 'approve': 910,\n",
              " 'choose': 911,\n",
              " 'built': 912,\n",
              " 'fixed': 913,\n",
              " 'prepared': 914,\n",
              " 'closer': 915,\n",
              " 'math': 916,\n",
              " 'gas': 917,\n",
              " 'wealthy': 918,\n",
              " 'wounded': 919,\n",
              " 'trying': 920,\n",
              " 'deserve': 921,\n",
              " 'proof': 922,\n",
              " 'sugar': 923,\n",
              " 'cab': 924,\n",
              " 'walking': 925,\n",
              " 'smiling': 926,\n",
              " 'apologize': 927,\n",
              " 'few': 928,\n",
              " 'annoying': 929,\n",
              " 'nobodys': 930,\n",
              " 'shower': 931,\n",
              " 'risk': 932,\n",
              " 'skinny': 933,\n",
              " 'notice': 934,\n",
              " 'also': 935,\n",
              " 'homesick': 936,\n",
              " 'delicious': 937,\n",
              " 'doors': 938,\n",
              " 'drinking': 939,\n",
              " 'carefully': 940,\n",
              " 'expect': 941,\n",
              " 'mouth': 942,\n",
              " 'each': 943,\n",
              " 'weight': 944,\n",
              " 'cousin': 945,\n",
              " 'exam': 946,\n",
              " 'australia': 947,\n",
              " 'protect': 948,\n",
              " 'probably': 949,\n",
              " 'address': 950,\n",
              " 'clothes': 951,\n",
              " 'lock': 952,\n",
              " 'stuck': 953,\n",
              " 'town': 954,\n",
              " 'shocked': 955,\n",
              " 'law': 956,\n",
              " 'useless': 957,\n",
              " 'loud': 958,\n",
              " 'older': 959,\n",
              " 'admire': 960,\n",
              " 'ears': 961,\n",
              " 'bleeding': 962,\n",
              " 'driving': 963,\n",
              " 'goes': 964,\n",
              " 'yelling': 965,\n",
              " 'followed': 966,\n",
              " 'flowers': 967,\n",
              " 'dangerous': 968,\n",
              " 'tree': 969,\n",
              " 'brown': 970,\n",
              " 'end': 971,\n",
              " 'abroad': 972,\n",
              " 'paper': 973,\n",
              " 'nonsense': 974,\n",
              " 'act': 975,\n",
              " 'travel': 976,\n",
              " 'rather': 977,\n",
              " 'students': 978,\n",
              " 'husband': 979,\n",
              " 'studied': 980,\n",
              " 'brought': 981,\n",
              " 'cap': 982,\n",
              " 'office': 983,\n",
              " 'wasting': 984,\n",
              " 'hello': 985,\n",
              " 'cruel': 986,\n",
              " 'hiding': 987,\n",
              " 'sharp': 988,\n",
              " 'lips': 989,\n",
              " 'unusual': 990,\n",
              " 'bite': 991,\n",
              " 'egg': 992,\n",
              " 'ten': 993,\n",
              " 'teach': 994,\n",
              " 'genius': 995,\n",
              " 'innocent': 996,\n",
              " 'pass': 997,\n",
              " 'theyve': 998,\n",
              " 'visit': 999,\n",
              " 'different': 1000,\n",
              " ...}"
            ]
          },
          "metadata": {
            "tags": []
          },
          "execution_count": 23
        }
      ]
    },
    {
      "cell_type": "code",
      "metadata": {
        "id": "29HEDq53ma_r"
      },
      "source": [
        "eng_vocab_size=len(eng_tokenizer.word_index)+1  # +1 for that start word "
      ],
      "execution_count": 24,
      "outputs": []
    },
    {
      "cell_type": "code",
      "metadata": {
        "colab": {
          "base_uri": "https://localhost:8080/"
        },
        "id": "4UUGVCrSndpr",
        "outputId": "c866ca0c-8ae0-452e-857d-c3657ec79ad9"
      },
      "source": [
        "print(eng_vocab_size)"
      ],
      "execution_count": 25,
      "outputs": [
        {
          "output_type": "stream",
          "text": [
            "6178\n"
          ],
          "name": "stdout"
        }
      ]
    },
    {
      "cell_type": "code",
      "metadata": {
        "colab": {
          "base_uri": "https://localhost:8080/"
        },
        "id": "twD05Djynhg5",
        "outputId": "c774bdfa-ee1d-404f-d62b-4be8fecfab0c"
      },
      "source": [
        "deu_tokenizer=Tokenizer()\n",
        "deu_tokenizer.fit_on_texts(deu_eng[:,1])\n",
        "deu_tokenizer.word_index #word_index is dictonary  where it compute what should be index\n",
        "\n",
        "deu_vocab_size=len(deu_tokenizer.word_index)+1  # +1 for that start word \n",
        "print(deu_vocab_size)\n"
      ],
      "execution_count": 26,
      "outputs": [
        {
          "output_type": "stream",
          "text": [
            "10177\n"
          ],
          "name": "stdout"
        }
      ]
    },
    {
      "cell_type": "code",
      "metadata": {
        "id": "qaNCPptjn43d"
      },
      "source": [
        "eng_max_length=8\n",
        "deu_max_length=8"
      ],
      "execution_count": 27,
      "outputs": []
    },
    {
      "cell_type": "code",
      "metadata": {
        "id": "du4elrfDoKy6"
      },
      "source": [
        "def encode_sequence(tokenizer,length,lines):\n",
        "  \n",
        "  seq=tokenizer.texts_to_sequences(lines) #eachof word in the sentences  into numeric token\n",
        "\n",
        "  seq=pad_sequences(seq,maxlen=length,padding=\"post\")\n",
        "  return seq"
      ],
      "execution_count": 28,
      "outputs": []
    },
    {
      "cell_type": "code",
      "metadata": {
        "id": "dxfx_36gqX_8"
      },
      "source": [
        "from sklearn.model_selection import train_test_split\n",
        "\n",
        "\n",
        "train,test=train_test_split(deu_eng,test_size=0.2, random_state=21)\n",
        "\n"
      ],
      "execution_count": 29,
      "outputs": []
    },
    {
      "cell_type": "code",
      "metadata": {
        "colab": {
          "base_uri": "https://localhost:8080/"
        },
        "id": "JQuzyqw0qup6",
        "outputId": "ff002f19-9e13-4d04-f76e-e1e65f8cc43d"
      },
      "source": [
        "train[:3]"
      ],
      "execution_count": 30,
      "outputs": [
        {
          "output_type": "execute_result",
          "data": {
            "text/plain": [
              "array([['is it cancer', 'ist es krebs',\n",
              "        'CC-BY 2.0 (France) Attribution: tatoeba.org #2248444 (CK) & #7456486 (Yorwba)'],\n",
              "       ['prepare yourself', 'mache dich bereit',\n",
              "        'CC-BY 2.0 (France) Attribution: tatoeba.org #1582029 (Spamster) & #1600407 (Pfirsichbaeumchen)'],\n",
              "       ['tom wears glasses', 'tom trägt eine brille',\n",
              "        'CC-BY 2.0 (France) Attribution: tatoeba.org #3265979 (patgfisher) & #2707984 (Pfirsichbaeumchen)']],\n",
              "      dtype='<U537')"
            ]
          },
          "metadata": {
            "tags": []
          },
          "execution_count": 30
        }
      ]
    },
    {
      "cell_type": "code",
      "metadata": {
        "colab": {
          "base_uri": "https://localhost:8080/"
        },
        "id": "v7MGrjkeqxYe",
        "outputId": "79e2507b-d18a-46e3-f22d-f2be2f9a0a3c"
      },
      "source": [
        "trainX = encode_sequence(deu_tokenizer,deu_max_length,train[:,1])\n",
        "trainY = encode_sequence(eng_tokenizer,eng_max_length,train[:,0])\n",
        "print(trainX.shape,trainY.shape)"
      ],
      "execution_count": 31,
      "outputs": [
        {
          "output_type": "stream",
          "text": [
            "(40000, 8) (40000, 8)\n"
          ],
          "name": "stdout"
        }
      ]
    },
    {
      "cell_type": "code",
      "metadata": {
        "colab": {
          "base_uri": "https://localhost:8080/"
        },
        "id": "HBuMLUa4riM4",
        "outputId": "a09f95f4-14fc-4122-8eb4-a41a0f55415b"
      },
      "source": [
        "print(trainX[0])"
      ],
      "execution_count": 32,
      "outputs": [
        {
          "output_type": "stream",
          "text": [
            "[   3    7 1517    0    0    0    0    0]\n"
          ],
          "name": "stdout"
        }
      ]
    },
    {
      "cell_type": "code",
      "metadata": {
        "colab": {
          "base_uri": "https://localhost:8080/"
        },
        "id": "hHS1D8PmroZh",
        "outputId": "2aa20c59-3180-4c4b-be76-b11a5904334c"
      },
      "source": [
        "print(trainY[0]\n",
        "      )"
      ],
      "execution_count": 33,
      "outputs": [
        {
          "output_type": "stream",
          "text": [
            "[   4    6 1031    0    0    0    0    0]\n"
          ],
          "name": "stdout"
        }
      ]
    },
    {
      "cell_type": "code",
      "metadata": {
        "colab": {
          "base_uri": "https://localhost:8080/"
        },
        "id": "1ebFbV_hruV3",
        "outputId": "5b81eb0d-d746-4755-ecd9-ca6e5a0792f7"
      },
      "source": [
        "testX=encode_sequence(deu_tokenizer,deu_max_length,test[:,1])\n",
        "testY=encode_sequence(eng_tokenizer,eng_max_length,test[:,0])\n",
        "print(testX.shape,testY.shape)"
      ],
      "execution_count": 34,
      "outputs": [
        {
          "output_type": "stream",
          "text": [
            "(10000, 8) (10000, 8)\n"
          ],
          "name": "stdout"
        }
      ]
    },
    {
      "cell_type": "code",
      "metadata": {
        "id": "UK4JehHJxHWY"
      },
      "source": [
        "#build the model"
      ],
      "execution_count": 35,
      "outputs": []
    },
    {
      "cell_type": "code",
      "metadata": {
        "id": "S8jAbv6sxNMX"
      },
      "source": [
        "from keras.models import Sequential\n",
        "from keras.layers import Dense,LSTM,Embedding,RepeatVector\n",
        "from keras import optimizers\n",
        "from keras.callbacks import ModelCheckpoint"
      ],
      "execution_count": 36,
      "outputs": []
    },
    {
      "cell_type": "code",
      "metadata": {
        "id": "3U2bNnMGxihC"
      },
      "source": [
        "model=Sequential()\n",
        "model.add(Embedding(deu_vocab_size,512,input_length=deu_max_length,mask_zero=True))\n",
        "\n",
        "#mask_zero means we are using special value zero as padding\n",
        "#all of the following layer also suppport mask_zero\n",
        "model.add(LSTM(512))\n",
        "model.add(RepeatVector(eng_max_length))\n",
        "model.add(LSTM(512,return_sequences=True))\n",
        "model.add(Dense(eng_vocab_size,activation=\"softmax\"))"
      ],
      "execution_count": 44,
      "outputs": []
    },
    {
      "cell_type": "code",
      "metadata": {
        "colab": {
          "base_uri": "https://localhost:8080/"
        },
        "id": "oUkXVqewzofN",
        "outputId": "e7896225-2aa0-420e-fabc-39d50361f163"
      },
      "source": [
        "model.summary()"
      ],
      "execution_count": 45,
      "outputs": [
        {
          "output_type": "stream",
          "text": [
            "Model: \"sequential_2\"\n",
            "_________________________________________________________________\n",
            "Layer (type)                 Output Shape              Param #   \n",
            "=================================================================\n",
            "embedding_2 (Embedding)      (None, 8, 512)            5210624   \n",
            "_________________________________________________________________\n",
            "lstm_4 (LSTM)                (None, 512)               2099200   \n",
            "_________________________________________________________________\n",
            "repeat_vector_2 (RepeatVecto (None, 8, 512)            0         \n",
            "_________________________________________________________________\n",
            "lstm_5 (LSTM)                (None, 8, 512)            2099200   \n",
            "_________________________________________________________________\n",
            "dense_1 (Dense)              (None, 8, 6178)           3169314   \n",
            "=================================================================\n",
            "Total params: 12,578,338\n",
            "Trainable params: 12,578,338\n",
            "Non-trainable params: 0\n",
            "_________________________________________________________________\n"
          ],
          "name": "stdout"
        }
      ]
    },
    {
      "cell_type": "code",
      "metadata": {
        "colab": {
          "base_uri": "https://localhost:8080/"
        },
        "id": "E5O5ciPazvnH",
        "outputId": "32de5cbb-c6f5-4f24-f384-944c5b8f6d5f"
      },
      "source": [
        "rms=optimizers.RMSprop(lr=0.001)\n",
        "model.compile(optimizer=rms,loss=\"sparse_categorical_crossentropy\")  "
      ],
      "execution_count": 46,
      "outputs": [
        {
          "output_type": "stream",
          "text": [
            "/usr/local/lib/python3.7/dist-packages/tensorflow/python/keras/optimizer_v2/optimizer_v2.py:375: UserWarning: The `lr` argument is deprecated, use `learning_rate` instead.\n",
            "  \"The `lr` argument is deprecated, use `learning_rate` instead.\")\n"
          ],
          "name": "stderr"
        }
      ]
    },
    {
      "cell_type": "code",
      "metadata": {
        "id": "d7Z7UMUe0dLE"
      },
      "source": [
        ""
      ],
      "execution_count": 39,
      "outputs": []
    },
    {
      "cell_type": "code",
      "metadata": {
        "id": "7o97URTa1FGu"
      },
      "source": [
        "# checkpoint\n",
        "filename=\"model.h1.2021\"\n",
        "checkpoint=ModelCheckpoint(filename,\n",
        "                           monitor=\"val_loss\",\n",
        "                           mode=\"min\",\n",
        "                           save_best_only=True,\n",
        "                           verbose=1)"
      ],
      "execution_count": 47,
      "outputs": []
    },
    {
      "cell_type": "code",
      "metadata": {
        "colab": {
          "base_uri": "https://localhost:8080/"
        },
        "id": "aODhqOd13Jvz",
        "outputId": "36035faf-d51a-4da2-84a0-3dd220403afc"
      },
      "source": [
        "trainX.shape,trainY.shape"
      ],
      "execution_count": 48,
      "outputs": [
        {
          "output_type": "execute_result",
          "data": {
            "text/plain": [
              "((40000, 8), (40000, 8))"
            ]
          },
          "metadata": {
            "tags": []
          },
          "execution_count": 48
        }
      ]
    },
    {
      "cell_type": "code",
      "metadata": {
        "id": "M_vnOJnd3Jzl"
      },
      "source": [
        ""
      ],
      "execution_count": 41,
      "outputs": []
    },
    {
      "cell_type": "code",
      "metadata": {
        "colab": {
          "base_uri": "https://localhost:8080/"
        },
        "id": "RgzmPRN3175x",
        "outputId": "07bab668-910f-423c-8667-d8709367e7bd"
      },
      "source": [
        "history=model.fit(trainX,trainY.reshape(40000,8,1),\n",
        "                  epochs=30,\n",
        "                  batch_size=512,\n",
        "                  validation_split=0.2,\n",
        "                  callbacks=[checkpoint],\n",
        "                  verbose=1)"
      ],
      "execution_count": 49,
      "outputs": [
        {
          "output_type": "stream",
          "text": [
            "Epoch 1/30\n",
            "63/63 [==============================] - 12s 100ms/step - loss: 4.3274 - val_loss: 2.7697\n",
            "\n",
            "Epoch 00001: val_loss improved from inf to 2.76965, saving model to model.h1.2021\n"
          ],
          "name": "stdout"
        },
        {
          "output_type": "stream",
          "text": [
            "WARNING:absl:Found untraced functions such as lstm_cell_4_layer_call_and_return_conditional_losses, lstm_cell_4_layer_call_fn, lstm_cell_5_layer_call_and_return_conditional_losses, lstm_cell_5_layer_call_fn, lstm_cell_4_layer_call_fn while saving (showing 5 of 10). These functions will not be directly callable after loading.\n"
          ],
          "name": "stderr"
        },
        {
          "output_type": "stream",
          "text": [
            "INFO:tensorflow:Assets written to: model.h1.2021/assets\n"
          ],
          "name": "stdout"
        },
        {
          "output_type": "stream",
          "text": [
            "INFO:tensorflow:Assets written to: model.h1.2021/assets\n"
          ],
          "name": "stderr"
        },
        {
          "output_type": "stream",
          "text": [
            "Epoch 2/30\n",
            "63/63 [==============================] - 5s 75ms/step - loss: 2.7641 - val_loss: 2.6739\n",
            "\n",
            "Epoch 00002: val_loss improved from 2.76965 to 2.67387, saving model to model.h1.2021\n"
          ],
          "name": "stdout"
        },
        {
          "output_type": "stream",
          "text": [
            "WARNING:absl:Found untraced functions such as lstm_cell_4_layer_call_and_return_conditional_losses, lstm_cell_4_layer_call_fn, lstm_cell_5_layer_call_and_return_conditional_losses, lstm_cell_5_layer_call_fn, lstm_cell_4_layer_call_fn while saving (showing 5 of 10). These functions will not be directly callable after loading.\n"
          ],
          "name": "stderr"
        },
        {
          "output_type": "stream",
          "text": [
            "INFO:tensorflow:Assets written to: model.h1.2021/assets\n"
          ],
          "name": "stdout"
        },
        {
          "output_type": "stream",
          "text": [
            "INFO:tensorflow:Assets written to: model.h1.2021/assets\n"
          ],
          "name": "stderr"
        },
        {
          "output_type": "stream",
          "text": [
            "Epoch 3/30\n",
            "63/63 [==============================] - 5s 75ms/step - loss: 2.6063 - val_loss: 2.5182\n",
            "\n",
            "Epoch 00003: val_loss improved from 2.67387 to 2.51820, saving model to model.h1.2021\n"
          ],
          "name": "stdout"
        },
        {
          "output_type": "stream",
          "text": [
            "WARNING:absl:Found untraced functions such as lstm_cell_4_layer_call_and_return_conditional_losses, lstm_cell_4_layer_call_fn, lstm_cell_5_layer_call_and_return_conditional_losses, lstm_cell_5_layer_call_fn, lstm_cell_4_layer_call_fn while saving (showing 5 of 10). These functions will not be directly callable after loading.\n"
          ],
          "name": "stderr"
        },
        {
          "output_type": "stream",
          "text": [
            "INFO:tensorflow:Assets written to: model.h1.2021/assets\n"
          ],
          "name": "stdout"
        },
        {
          "output_type": "stream",
          "text": [
            "INFO:tensorflow:Assets written to: model.h1.2021/assets\n"
          ],
          "name": "stderr"
        },
        {
          "output_type": "stream",
          "text": [
            "Epoch 4/30\n",
            "63/63 [==============================] - 5s 76ms/step - loss: 2.4098 - val_loss: 2.3611\n",
            "\n",
            "Epoch 00004: val_loss improved from 2.51820 to 2.36110, saving model to model.h1.2021\n"
          ],
          "name": "stdout"
        },
        {
          "output_type": "stream",
          "text": [
            "WARNING:absl:Found untraced functions such as lstm_cell_4_layer_call_and_return_conditional_losses, lstm_cell_4_layer_call_fn, lstm_cell_5_layer_call_and_return_conditional_losses, lstm_cell_5_layer_call_fn, lstm_cell_4_layer_call_fn while saving (showing 5 of 10). These functions will not be directly callable after loading.\n"
          ],
          "name": "stderr"
        },
        {
          "output_type": "stream",
          "text": [
            "INFO:tensorflow:Assets written to: model.h1.2021/assets\n"
          ],
          "name": "stdout"
        },
        {
          "output_type": "stream",
          "text": [
            "INFO:tensorflow:Assets written to: model.h1.2021/assets\n"
          ],
          "name": "stderr"
        },
        {
          "output_type": "stream",
          "text": [
            "Epoch 5/30\n",
            "63/63 [==============================] - 5s 77ms/step - loss: 2.2595 - val_loss: 2.2408\n",
            "\n",
            "Epoch 00005: val_loss improved from 2.36110 to 2.24085, saving model to model.h1.2021\n"
          ],
          "name": "stdout"
        },
        {
          "output_type": "stream",
          "text": [
            "WARNING:absl:Found untraced functions such as lstm_cell_4_layer_call_and_return_conditional_losses, lstm_cell_4_layer_call_fn, lstm_cell_5_layer_call_and_return_conditional_losses, lstm_cell_5_layer_call_fn, lstm_cell_4_layer_call_fn while saving (showing 5 of 10). These functions will not be directly callable after loading.\n"
          ],
          "name": "stderr"
        },
        {
          "output_type": "stream",
          "text": [
            "INFO:tensorflow:Assets written to: model.h1.2021/assets\n"
          ],
          "name": "stdout"
        },
        {
          "output_type": "stream",
          "text": [
            "INFO:tensorflow:Assets written to: model.h1.2021/assets\n"
          ],
          "name": "stderr"
        },
        {
          "output_type": "stream",
          "text": [
            "Epoch 6/30\n",
            "63/63 [==============================] - 5s 77ms/step - loss: 2.1047 - val_loss: 2.1378\n",
            "\n",
            "Epoch 00006: val_loss improved from 2.24085 to 2.13777, saving model to model.h1.2021\n"
          ],
          "name": "stdout"
        },
        {
          "output_type": "stream",
          "text": [
            "WARNING:absl:Found untraced functions such as lstm_cell_4_layer_call_and_return_conditional_losses, lstm_cell_4_layer_call_fn, lstm_cell_5_layer_call_and_return_conditional_losses, lstm_cell_5_layer_call_fn, lstm_cell_4_layer_call_fn while saving (showing 5 of 10). These functions will not be directly callable after loading.\n"
          ],
          "name": "stderr"
        },
        {
          "output_type": "stream",
          "text": [
            "INFO:tensorflow:Assets written to: model.h1.2021/assets\n"
          ],
          "name": "stdout"
        },
        {
          "output_type": "stream",
          "text": [
            "INFO:tensorflow:Assets written to: model.h1.2021/assets\n"
          ],
          "name": "stderr"
        },
        {
          "output_type": "stream",
          "text": [
            "Epoch 7/30\n",
            "63/63 [==============================] - 5s 78ms/step - loss: 1.9811 - val_loss: 2.0445\n",
            "\n",
            "Epoch 00007: val_loss improved from 2.13777 to 2.04448, saving model to model.h1.2021\n"
          ],
          "name": "stdout"
        },
        {
          "output_type": "stream",
          "text": [
            "WARNING:absl:Found untraced functions such as lstm_cell_4_layer_call_and_return_conditional_losses, lstm_cell_4_layer_call_fn, lstm_cell_5_layer_call_and_return_conditional_losses, lstm_cell_5_layer_call_fn, lstm_cell_4_layer_call_fn while saving (showing 5 of 10). These functions will not be directly callable after loading.\n"
          ],
          "name": "stderr"
        },
        {
          "output_type": "stream",
          "text": [
            "INFO:tensorflow:Assets written to: model.h1.2021/assets\n"
          ],
          "name": "stdout"
        },
        {
          "output_type": "stream",
          "text": [
            "INFO:tensorflow:Assets written to: model.h1.2021/assets\n"
          ],
          "name": "stderr"
        },
        {
          "output_type": "stream",
          "text": [
            "Epoch 8/30\n",
            "63/63 [==============================] - 5s 78ms/step - loss: 1.8580 - val_loss: 1.9534\n",
            "\n",
            "Epoch 00008: val_loss improved from 2.04448 to 1.95335, saving model to model.h1.2021\n"
          ],
          "name": "stdout"
        },
        {
          "output_type": "stream",
          "text": [
            "WARNING:absl:Found untraced functions such as lstm_cell_4_layer_call_and_return_conditional_losses, lstm_cell_4_layer_call_fn, lstm_cell_5_layer_call_and_return_conditional_losses, lstm_cell_5_layer_call_fn, lstm_cell_4_layer_call_fn while saving (showing 5 of 10). These functions will not be directly callable after loading.\n"
          ],
          "name": "stderr"
        },
        {
          "output_type": "stream",
          "text": [
            "INFO:tensorflow:Assets written to: model.h1.2021/assets\n"
          ],
          "name": "stdout"
        },
        {
          "output_type": "stream",
          "text": [
            "INFO:tensorflow:Assets written to: model.h1.2021/assets\n"
          ],
          "name": "stderr"
        },
        {
          "output_type": "stream",
          "text": [
            "Epoch 9/30\n",
            "63/63 [==============================] - 5s 79ms/step - loss: 1.7469 - val_loss: 1.8854\n",
            "\n",
            "Epoch 00009: val_loss improved from 1.95335 to 1.88539, saving model to model.h1.2021\n"
          ],
          "name": "stdout"
        },
        {
          "output_type": "stream",
          "text": [
            "WARNING:absl:Found untraced functions such as lstm_cell_4_layer_call_and_return_conditional_losses, lstm_cell_4_layer_call_fn, lstm_cell_5_layer_call_and_return_conditional_losses, lstm_cell_5_layer_call_fn, lstm_cell_4_layer_call_fn while saving (showing 5 of 10). These functions will not be directly callable after loading.\n"
          ],
          "name": "stderr"
        },
        {
          "output_type": "stream",
          "text": [
            "INFO:tensorflow:Assets written to: model.h1.2021/assets\n"
          ],
          "name": "stdout"
        },
        {
          "output_type": "stream",
          "text": [
            "INFO:tensorflow:Assets written to: model.h1.2021/assets\n"
          ],
          "name": "stderr"
        },
        {
          "output_type": "stream",
          "text": [
            "Epoch 10/30\n",
            "63/63 [==============================] - 5s 77ms/step - loss: 1.6448 - val_loss: 1.8313\n",
            "\n",
            "Epoch 00010: val_loss improved from 1.88539 to 1.83134, saving model to model.h1.2021\n"
          ],
          "name": "stdout"
        },
        {
          "output_type": "stream",
          "text": [
            "WARNING:absl:Found untraced functions such as lstm_cell_4_layer_call_and_return_conditional_losses, lstm_cell_4_layer_call_fn, lstm_cell_5_layer_call_and_return_conditional_losses, lstm_cell_5_layer_call_fn, lstm_cell_4_layer_call_fn while saving (showing 5 of 10). These functions will not be directly callable after loading.\n"
          ],
          "name": "stderr"
        },
        {
          "output_type": "stream",
          "text": [
            "INFO:tensorflow:Assets written to: model.h1.2021/assets\n"
          ],
          "name": "stdout"
        },
        {
          "output_type": "stream",
          "text": [
            "INFO:tensorflow:Assets written to: model.h1.2021/assets\n"
          ],
          "name": "stderr"
        },
        {
          "output_type": "stream",
          "text": [
            "Epoch 11/30\n",
            "63/63 [==============================] - 5s 77ms/step - loss: 1.5384 - val_loss: 1.7426\n",
            "\n",
            "Epoch 00011: val_loss improved from 1.83134 to 1.74263, saving model to model.h1.2021\n"
          ],
          "name": "stdout"
        },
        {
          "output_type": "stream",
          "text": [
            "WARNING:absl:Found untraced functions such as lstm_cell_4_layer_call_and_return_conditional_losses, lstm_cell_4_layer_call_fn, lstm_cell_5_layer_call_and_return_conditional_losses, lstm_cell_5_layer_call_fn, lstm_cell_4_layer_call_fn while saving (showing 5 of 10). These functions will not be directly callable after loading.\n"
          ],
          "name": "stderr"
        },
        {
          "output_type": "stream",
          "text": [
            "INFO:tensorflow:Assets written to: model.h1.2021/assets\n"
          ],
          "name": "stdout"
        },
        {
          "output_type": "stream",
          "text": [
            "INFO:tensorflow:Assets written to: model.h1.2021/assets\n"
          ],
          "name": "stderr"
        },
        {
          "output_type": "stream",
          "text": [
            "Epoch 12/30\n",
            "63/63 [==============================] - 5s 78ms/step - loss: 1.4370 - val_loss: 1.6889\n",
            "\n",
            "Epoch 00012: val_loss improved from 1.74263 to 1.68891, saving model to model.h1.2021\n"
          ],
          "name": "stdout"
        },
        {
          "output_type": "stream",
          "text": [
            "WARNING:absl:Found untraced functions such as lstm_cell_4_layer_call_and_return_conditional_losses, lstm_cell_4_layer_call_fn, lstm_cell_5_layer_call_and_return_conditional_losses, lstm_cell_5_layer_call_fn, lstm_cell_4_layer_call_fn while saving (showing 5 of 10). These functions will not be directly callable after loading.\n"
          ],
          "name": "stderr"
        },
        {
          "output_type": "stream",
          "text": [
            "INFO:tensorflow:Assets written to: model.h1.2021/assets\n"
          ],
          "name": "stdout"
        },
        {
          "output_type": "stream",
          "text": [
            "INFO:tensorflow:Assets written to: model.h1.2021/assets\n"
          ],
          "name": "stderr"
        },
        {
          "output_type": "stream",
          "text": [
            "Epoch 13/30\n",
            "63/63 [==============================] - 5s 78ms/step - loss: 1.3479 - val_loss: 1.6104\n",
            "\n",
            "Epoch 00013: val_loss improved from 1.68891 to 1.61041, saving model to model.h1.2021\n"
          ],
          "name": "stdout"
        },
        {
          "output_type": "stream",
          "text": [
            "WARNING:absl:Found untraced functions such as lstm_cell_4_layer_call_and_return_conditional_losses, lstm_cell_4_layer_call_fn, lstm_cell_5_layer_call_and_return_conditional_losses, lstm_cell_5_layer_call_fn, lstm_cell_4_layer_call_fn while saving (showing 5 of 10). These functions will not be directly callable after loading.\n"
          ],
          "name": "stderr"
        },
        {
          "output_type": "stream",
          "text": [
            "INFO:tensorflow:Assets written to: model.h1.2021/assets\n"
          ],
          "name": "stdout"
        },
        {
          "output_type": "stream",
          "text": [
            "INFO:tensorflow:Assets written to: model.h1.2021/assets\n"
          ],
          "name": "stderr"
        },
        {
          "output_type": "stream",
          "text": [
            "Epoch 14/30\n",
            "63/63 [==============================] - 5s 78ms/step - loss: 1.2559 - val_loss: 1.5837\n",
            "\n",
            "Epoch 00014: val_loss improved from 1.61041 to 1.58372, saving model to model.h1.2021\n"
          ],
          "name": "stdout"
        },
        {
          "output_type": "stream",
          "text": [
            "WARNING:absl:Found untraced functions such as lstm_cell_4_layer_call_and_return_conditional_losses, lstm_cell_4_layer_call_fn, lstm_cell_5_layer_call_and_return_conditional_losses, lstm_cell_5_layer_call_fn, lstm_cell_4_layer_call_fn while saving (showing 5 of 10). These functions will not be directly callable after loading.\n"
          ],
          "name": "stderr"
        },
        {
          "output_type": "stream",
          "text": [
            "INFO:tensorflow:Assets written to: model.h1.2021/assets\n"
          ],
          "name": "stdout"
        },
        {
          "output_type": "stream",
          "text": [
            "INFO:tensorflow:Assets written to: model.h1.2021/assets\n"
          ],
          "name": "stderr"
        },
        {
          "output_type": "stream",
          "text": [
            "Epoch 15/30\n",
            "63/63 [==============================] - 5s 77ms/step - loss: 1.1779 - val_loss: 1.5290\n",
            "\n",
            "Epoch 00015: val_loss improved from 1.58372 to 1.52895, saving model to model.h1.2021\n"
          ],
          "name": "stdout"
        },
        {
          "output_type": "stream",
          "text": [
            "WARNING:absl:Found untraced functions such as lstm_cell_4_layer_call_and_return_conditional_losses, lstm_cell_4_layer_call_fn, lstm_cell_5_layer_call_and_return_conditional_losses, lstm_cell_5_layer_call_fn, lstm_cell_4_layer_call_fn while saving (showing 5 of 10). These functions will not be directly callable after loading.\n"
          ],
          "name": "stderr"
        },
        {
          "output_type": "stream",
          "text": [
            "INFO:tensorflow:Assets written to: model.h1.2021/assets\n"
          ],
          "name": "stdout"
        },
        {
          "output_type": "stream",
          "text": [
            "INFO:tensorflow:Assets written to: model.h1.2021/assets\n"
          ],
          "name": "stderr"
        },
        {
          "output_type": "stream",
          "text": [
            "Epoch 16/30\n",
            "63/63 [==============================] - 5s 78ms/step - loss: 1.0984 - val_loss: 1.5079\n",
            "\n",
            "Epoch 00016: val_loss improved from 1.52895 to 1.50794, saving model to model.h1.2021\n"
          ],
          "name": "stdout"
        },
        {
          "output_type": "stream",
          "text": [
            "WARNING:absl:Found untraced functions such as lstm_cell_4_layer_call_and_return_conditional_losses, lstm_cell_4_layer_call_fn, lstm_cell_5_layer_call_and_return_conditional_losses, lstm_cell_5_layer_call_fn, lstm_cell_4_layer_call_fn while saving (showing 5 of 10). These functions will not be directly callable after loading.\n"
          ],
          "name": "stderr"
        },
        {
          "output_type": "stream",
          "text": [
            "INFO:tensorflow:Assets written to: model.h1.2021/assets\n"
          ],
          "name": "stdout"
        },
        {
          "output_type": "stream",
          "text": [
            "INFO:tensorflow:Assets written to: model.h1.2021/assets\n"
          ],
          "name": "stderr"
        },
        {
          "output_type": "stream",
          "text": [
            "Epoch 17/30\n",
            "63/63 [==============================] - 5s 78ms/step - loss: 1.0265 - val_loss: 1.4479\n",
            "\n",
            "Epoch 00017: val_loss improved from 1.50794 to 1.44787, saving model to model.h1.2021\n"
          ],
          "name": "stdout"
        },
        {
          "output_type": "stream",
          "text": [
            "WARNING:absl:Found untraced functions such as lstm_cell_4_layer_call_and_return_conditional_losses, lstm_cell_4_layer_call_fn, lstm_cell_5_layer_call_and_return_conditional_losses, lstm_cell_5_layer_call_fn, lstm_cell_4_layer_call_fn while saving (showing 5 of 10). These functions will not be directly callable after loading.\n"
          ],
          "name": "stderr"
        },
        {
          "output_type": "stream",
          "text": [
            "INFO:tensorflow:Assets written to: model.h1.2021/assets\n"
          ],
          "name": "stdout"
        },
        {
          "output_type": "stream",
          "text": [
            "INFO:tensorflow:Assets written to: model.h1.2021/assets\n"
          ],
          "name": "stderr"
        },
        {
          "output_type": "stream",
          "text": [
            "Epoch 18/30\n",
            "63/63 [==============================] - 5s 78ms/step - loss: 0.9571 - val_loss: 1.4267\n",
            "\n",
            "Epoch 00018: val_loss improved from 1.44787 to 1.42666, saving model to model.h1.2021\n"
          ],
          "name": "stdout"
        },
        {
          "output_type": "stream",
          "text": [
            "WARNING:absl:Found untraced functions such as lstm_cell_4_layer_call_and_return_conditional_losses, lstm_cell_4_layer_call_fn, lstm_cell_5_layer_call_and_return_conditional_losses, lstm_cell_5_layer_call_fn, lstm_cell_4_layer_call_fn while saving (showing 5 of 10). These functions will not be directly callable after loading.\n"
          ],
          "name": "stderr"
        },
        {
          "output_type": "stream",
          "text": [
            "INFO:tensorflow:Assets written to: model.h1.2021/assets\n"
          ],
          "name": "stdout"
        },
        {
          "output_type": "stream",
          "text": [
            "INFO:tensorflow:Assets written to: model.h1.2021/assets\n"
          ],
          "name": "stderr"
        },
        {
          "output_type": "stream",
          "text": [
            "Epoch 19/30\n",
            "63/63 [==============================] - 5s 78ms/step - loss: 0.8848 - val_loss: 1.3894\n",
            "\n",
            "Epoch 00019: val_loss improved from 1.42666 to 1.38943, saving model to model.h1.2021\n"
          ],
          "name": "stdout"
        },
        {
          "output_type": "stream",
          "text": [
            "WARNING:absl:Found untraced functions such as lstm_cell_4_layer_call_and_return_conditional_losses, lstm_cell_4_layer_call_fn, lstm_cell_5_layer_call_and_return_conditional_losses, lstm_cell_5_layer_call_fn, lstm_cell_4_layer_call_fn while saving (showing 5 of 10). These functions will not be directly callable after loading.\n"
          ],
          "name": "stderr"
        },
        {
          "output_type": "stream",
          "text": [
            "INFO:tensorflow:Assets written to: model.h1.2021/assets\n"
          ],
          "name": "stdout"
        },
        {
          "output_type": "stream",
          "text": [
            "INFO:tensorflow:Assets written to: model.h1.2021/assets\n"
          ],
          "name": "stderr"
        },
        {
          "output_type": "stream",
          "text": [
            "Epoch 20/30\n",
            "63/63 [==============================] - 5s 77ms/step - loss: 0.8252 - val_loss: 1.3567\n",
            "\n",
            "Epoch 00020: val_loss improved from 1.38943 to 1.35669, saving model to model.h1.2021\n"
          ],
          "name": "stdout"
        },
        {
          "output_type": "stream",
          "text": [
            "WARNING:absl:Found untraced functions such as lstm_cell_4_layer_call_and_return_conditional_losses, lstm_cell_4_layer_call_fn, lstm_cell_5_layer_call_and_return_conditional_losses, lstm_cell_5_layer_call_fn, lstm_cell_4_layer_call_fn while saving (showing 5 of 10). These functions will not be directly callable after loading.\n"
          ],
          "name": "stderr"
        },
        {
          "output_type": "stream",
          "text": [
            "INFO:tensorflow:Assets written to: model.h1.2021/assets\n"
          ],
          "name": "stdout"
        },
        {
          "output_type": "stream",
          "text": [
            "INFO:tensorflow:Assets written to: model.h1.2021/assets\n"
          ],
          "name": "stderr"
        },
        {
          "output_type": "stream",
          "text": [
            "Epoch 21/30\n",
            "63/63 [==============================] - 5s 77ms/step - loss: 0.7616 - val_loss: 1.3399\n",
            "\n",
            "Epoch 00021: val_loss improved from 1.35669 to 1.33991, saving model to model.h1.2021\n"
          ],
          "name": "stdout"
        },
        {
          "output_type": "stream",
          "text": [
            "WARNING:absl:Found untraced functions such as lstm_cell_4_layer_call_and_return_conditional_losses, lstm_cell_4_layer_call_fn, lstm_cell_5_layer_call_and_return_conditional_losses, lstm_cell_5_layer_call_fn, lstm_cell_4_layer_call_fn while saving (showing 5 of 10). These functions will not be directly callable after loading.\n"
          ],
          "name": "stderr"
        },
        {
          "output_type": "stream",
          "text": [
            "INFO:tensorflow:Assets written to: model.h1.2021/assets\n"
          ],
          "name": "stdout"
        },
        {
          "output_type": "stream",
          "text": [
            "INFO:tensorflow:Assets written to: model.h1.2021/assets\n"
          ],
          "name": "stderr"
        },
        {
          "output_type": "stream",
          "text": [
            "Epoch 22/30\n",
            "63/63 [==============================] - 5s 78ms/step - loss: 0.7102 - val_loss: 1.3232\n",
            "\n",
            "Epoch 00022: val_loss improved from 1.33991 to 1.32321, saving model to model.h1.2021\n"
          ],
          "name": "stdout"
        },
        {
          "output_type": "stream",
          "text": [
            "WARNING:absl:Found untraced functions such as lstm_cell_4_layer_call_and_return_conditional_losses, lstm_cell_4_layer_call_fn, lstm_cell_5_layer_call_and_return_conditional_losses, lstm_cell_5_layer_call_fn, lstm_cell_4_layer_call_fn while saving (showing 5 of 10). These functions will not be directly callable after loading.\n"
          ],
          "name": "stderr"
        },
        {
          "output_type": "stream",
          "text": [
            "INFO:tensorflow:Assets written to: model.h1.2021/assets\n"
          ],
          "name": "stdout"
        },
        {
          "output_type": "stream",
          "text": [
            "INFO:tensorflow:Assets written to: model.h1.2021/assets\n"
          ],
          "name": "stderr"
        },
        {
          "output_type": "stream",
          "text": [
            "Epoch 23/30\n",
            "63/63 [==============================] - 5s 78ms/step - loss: 0.6540 - val_loss: 1.3054\n",
            "\n",
            "Epoch 00023: val_loss improved from 1.32321 to 1.30541, saving model to model.h1.2021\n"
          ],
          "name": "stdout"
        },
        {
          "output_type": "stream",
          "text": [
            "WARNING:absl:Found untraced functions such as lstm_cell_4_layer_call_and_return_conditional_losses, lstm_cell_4_layer_call_fn, lstm_cell_5_layer_call_and_return_conditional_losses, lstm_cell_5_layer_call_fn, lstm_cell_4_layer_call_fn while saving (showing 5 of 10). These functions will not be directly callable after loading.\n"
          ],
          "name": "stderr"
        },
        {
          "output_type": "stream",
          "text": [
            "INFO:tensorflow:Assets written to: model.h1.2021/assets\n"
          ],
          "name": "stdout"
        },
        {
          "output_type": "stream",
          "text": [
            "INFO:tensorflow:Assets written to: model.h1.2021/assets\n"
          ],
          "name": "stderr"
        },
        {
          "output_type": "stream",
          "text": [
            "Epoch 24/30\n",
            "63/63 [==============================] - 5s 78ms/step - loss: 0.6008 - val_loss: 1.2822\n",
            "\n",
            "Epoch 00024: val_loss improved from 1.30541 to 1.28219, saving model to model.h1.2021\n"
          ],
          "name": "stdout"
        },
        {
          "output_type": "stream",
          "text": [
            "WARNING:absl:Found untraced functions such as lstm_cell_4_layer_call_and_return_conditional_losses, lstm_cell_4_layer_call_fn, lstm_cell_5_layer_call_and_return_conditional_losses, lstm_cell_5_layer_call_fn, lstm_cell_4_layer_call_fn while saving (showing 5 of 10). These functions will not be directly callable after loading.\n"
          ],
          "name": "stderr"
        },
        {
          "output_type": "stream",
          "text": [
            "INFO:tensorflow:Assets written to: model.h1.2021/assets\n"
          ],
          "name": "stdout"
        },
        {
          "output_type": "stream",
          "text": [
            "INFO:tensorflow:Assets written to: model.h1.2021/assets\n"
          ],
          "name": "stderr"
        },
        {
          "output_type": "stream",
          "text": [
            "Epoch 25/30\n",
            "63/63 [==============================] - 5s 78ms/step - loss: 0.5467 - val_loss: 1.2780\n",
            "\n",
            "Epoch 00025: val_loss improved from 1.28219 to 1.27799, saving model to model.h1.2021\n"
          ],
          "name": "stdout"
        },
        {
          "output_type": "stream",
          "text": [
            "WARNING:absl:Found untraced functions such as lstm_cell_4_layer_call_and_return_conditional_losses, lstm_cell_4_layer_call_fn, lstm_cell_5_layer_call_and_return_conditional_losses, lstm_cell_5_layer_call_fn, lstm_cell_4_layer_call_fn while saving (showing 5 of 10). These functions will not be directly callable after loading.\n"
          ],
          "name": "stderr"
        },
        {
          "output_type": "stream",
          "text": [
            "INFO:tensorflow:Assets written to: model.h1.2021/assets\n"
          ],
          "name": "stdout"
        },
        {
          "output_type": "stream",
          "text": [
            "INFO:tensorflow:Assets written to: model.h1.2021/assets\n"
          ],
          "name": "stderr"
        },
        {
          "output_type": "stream",
          "text": [
            "Epoch 26/30\n",
            "63/63 [==============================] - 5s 78ms/step - loss: 0.5056 - val_loss: 1.2589\n",
            "\n",
            "Epoch 00026: val_loss improved from 1.27799 to 1.25889, saving model to model.h1.2021\n"
          ],
          "name": "stdout"
        },
        {
          "output_type": "stream",
          "text": [
            "WARNING:absl:Found untraced functions such as lstm_cell_4_layer_call_and_return_conditional_losses, lstm_cell_4_layer_call_fn, lstm_cell_5_layer_call_and_return_conditional_losses, lstm_cell_5_layer_call_fn, lstm_cell_4_layer_call_fn while saving (showing 5 of 10). These functions will not be directly callable after loading.\n"
          ],
          "name": "stderr"
        },
        {
          "output_type": "stream",
          "text": [
            "INFO:tensorflow:Assets written to: model.h1.2021/assets\n"
          ],
          "name": "stdout"
        },
        {
          "output_type": "stream",
          "text": [
            "INFO:tensorflow:Assets written to: model.h1.2021/assets\n"
          ],
          "name": "stderr"
        },
        {
          "output_type": "stream",
          "text": [
            "Epoch 27/30\n",
            "63/63 [==============================] - 5s 82ms/step - loss: 0.4601 - val_loss: 1.2559\n",
            "\n",
            "Epoch 00027: val_loss improved from 1.25889 to 1.25593, saving model to model.h1.2021\n"
          ],
          "name": "stdout"
        },
        {
          "output_type": "stream",
          "text": [
            "WARNING:absl:Found untraced functions such as lstm_cell_4_layer_call_and_return_conditional_losses, lstm_cell_4_layer_call_fn, lstm_cell_5_layer_call_and_return_conditional_losses, lstm_cell_5_layer_call_fn, lstm_cell_4_layer_call_fn while saving (showing 5 of 10). These functions will not be directly callable after loading.\n"
          ],
          "name": "stderr"
        },
        {
          "output_type": "stream",
          "text": [
            "INFO:tensorflow:Assets written to: model.h1.2021/assets\n"
          ],
          "name": "stdout"
        },
        {
          "output_type": "stream",
          "text": [
            "INFO:tensorflow:Assets written to: model.h1.2021/assets\n"
          ],
          "name": "stderr"
        },
        {
          "output_type": "stream",
          "text": [
            "Epoch 28/30\n",
            "63/63 [==============================] - 5s 79ms/step - loss: 0.4265 - val_loss: 1.2441\n",
            "\n",
            "Epoch 00028: val_loss improved from 1.25593 to 1.24412, saving model to model.h1.2021\n"
          ],
          "name": "stdout"
        },
        {
          "output_type": "stream",
          "text": [
            "WARNING:absl:Found untraced functions such as lstm_cell_4_layer_call_and_return_conditional_losses, lstm_cell_4_layer_call_fn, lstm_cell_5_layer_call_and_return_conditional_losses, lstm_cell_5_layer_call_fn, lstm_cell_4_layer_call_fn while saving (showing 5 of 10). These functions will not be directly callable after loading.\n"
          ],
          "name": "stderr"
        },
        {
          "output_type": "stream",
          "text": [
            "INFO:tensorflow:Assets written to: model.h1.2021/assets\n"
          ],
          "name": "stdout"
        },
        {
          "output_type": "stream",
          "text": [
            "INFO:tensorflow:Assets written to: model.h1.2021/assets\n"
          ],
          "name": "stderr"
        },
        {
          "output_type": "stream",
          "text": [
            "Epoch 29/30\n",
            "63/63 [==============================] - 5s 79ms/step - loss: 0.3874 - val_loss: 1.2378\n",
            "\n",
            "Epoch 00029: val_loss improved from 1.24412 to 1.23779, saving model to model.h1.2021\n"
          ],
          "name": "stdout"
        },
        {
          "output_type": "stream",
          "text": [
            "WARNING:absl:Found untraced functions such as lstm_cell_4_layer_call_and_return_conditional_losses, lstm_cell_4_layer_call_fn, lstm_cell_5_layer_call_and_return_conditional_losses, lstm_cell_5_layer_call_fn, lstm_cell_4_layer_call_fn while saving (showing 5 of 10). These functions will not be directly callable after loading.\n"
          ],
          "name": "stderr"
        },
        {
          "output_type": "stream",
          "text": [
            "INFO:tensorflow:Assets written to: model.h1.2021/assets\n"
          ],
          "name": "stdout"
        },
        {
          "output_type": "stream",
          "text": [
            "INFO:tensorflow:Assets written to: model.h1.2021/assets\n"
          ],
          "name": "stderr"
        },
        {
          "output_type": "stream",
          "text": [
            "Epoch 30/30\n",
            "63/63 [==============================] - 5s 79ms/step - loss: 0.3514 - val_loss: 1.2334\n",
            "\n",
            "Epoch 00030: val_loss improved from 1.23779 to 1.23335, saving model to model.h1.2021\n"
          ],
          "name": "stdout"
        },
        {
          "output_type": "stream",
          "text": [
            "WARNING:absl:Found untraced functions such as lstm_cell_4_layer_call_and_return_conditional_losses, lstm_cell_4_layer_call_fn, lstm_cell_5_layer_call_and_return_conditional_losses, lstm_cell_5_layer_call_fn, lstm_cell_4_layer_call_fn while saving (showing 5 of 10). These functions will not be directly callable after loading.\n"
          ],
          "name": "stderr"
        },
        {
          "output_type": "stream",
          "text": [
            "INFO:tensorflow:Assets written to: model.h1.2021/assets\n"
          ],
          "name": "stdout"
        },
        {
          "output_type": "stream",
          "text": [
            "INFO:tensorflow:Assets written to: model.h1.2021/assets\n"
          ],
          "name": "stderr"
        }
      ]
    },
    {
      "cell_type": "code",
      "metadata": {
        "colab": {
          "base_uri": "https://localhost:8080/",
          "height": 268
        },
        "id": "MZsF4H572Wxt",
        "outputId": "c03dcbaf-3c12-41b6-994c-16a86b38b2cb"
      },
      "source": [
        "plt.plot(history.history[\"loss\"])\n",
        "plt.plot(history.history[\"val_loss\"])\n",
        "plt.legend([\"train_loss\",\"validation_loss\"])\n",
        "plt.show()"
      ],
      "execution_count": 51,
      "outputs": [
        {
          "output_type": "display_data",
          "data": {
            "image/png": "[encoded data removed]",
            "text/plain": [
              "<Figure size 432x288 with 1 Axes>"
            ]
          },
          "metadata": {
            "tags": [],
            "needs_background": "light"
          }
        }
      ]
    },
    {
      "cell_type": "code",
      "metadata": {
        "id": "Z0XYWfNP8FjG"
      },
      "source": [
        "from keras.models import load_model"
      ],
      "execution_count": 53,
      "outputs": []
    },
    {
      "cell_type": "code",
      "metadata": {
        "colab": {
          "base_uri": "https://localhost:8080/"
        },
        "id": "jH7lRycA844_",
        "outputId": "e5700efe-3dcb-479f-ea38-14dd5b4b0bb1"
      },
      "source": [
        "print(testX.shape)"
      ],
      "execution_count": 54,
      "outputs": [
        {
          "output_type": "stream",
          "text": [
            "(10000, 8)\n"
          ],
          "name": "stdout"
        }
      ]
    },
    {
      "cell_type": "code",
      "metadata": {
        "id": "Fmb8r7Tx85_v"
      },
      "source": [
        ""
      ],
      "execution_count": null,
      "outputs": []
    },
    {
      "cell_type": "code",
      "metadata": {
        "id": "eq9y5K2v86D7"
      },
      "source": [
        ""
      ],
      "execution_count": null,
      "outputs": []
    },
    {
      "cell_type": "code",
      "metadata": {
        "colab": {
          "base_uri": "https://localhost:8080/"
        },
        "id": "UxsCTOle8llx",
        "outputId": "bd7ce041-b678-4c9a-bef2-cfd635c659f7"
      },
      "source": [
        "model=load_model(filename)  #model.h1.2021\n",
        "preds=model.predict_classes(testX)  #size of o/p of dense layer after appllying softmax is about 6000\n"
      ],
      "execution_count": 55,
      "outputs": [
        {
          "output_type": "stream",
          "text": [
            "/usr/local/lib/python3.7/dist-packages/keras/engine/sequential.py:450: UserWarning: `model.predict_classes()` is deprecated and will be removed after 2021-01-01. Please use instead:* `np.argmax(model.predict(x), axis=-1)`,   if your model does multi-class classification   (e.g. if it uses a `softmax` last-layer activation).* `(model.predict(x) > 0.5).astype(\"int32\")`,   if your model does binary classification   (e.g. if it uses a `sigmoid` last-layer activation).\n",
            "  warnings.warn('`model.predict_classes()` is deprecated and '\n"
          ],
          "name": "stderr"
        }
      ]
    },
    {
      "cell_type": "code",
      "metadata": {
        "colab": {
          "base_uri": "https://localhost:8080/"
        },
        "id": "8BoubSEi_T-s",
        "outputId": "3a62620b-921c-4508-98a4-b51d065ca4c7"
      },
      "source": [
        "preds[1]"
      ],
      "execution_count": 61,
      "outputs": [
        {
          "output_type": "execute_result",
          "data": {
            "text/plain": [
              "array([  3, 268,   6,   0,   0,   0,   0,   0])"
            ]
          },
          "metadata": {
            "tags": []
          },
          "execution_count": 61
        }
      ]
    },
    {
      "cell_type": "code",
      "metadata": {
        "id": "5DGZG7L99ojh"
      },
      "source": [
        "#we get token and want to get words\n",
        "\n",
        "eng_dict={t:w for w ,t in eng_tokenizer.word_index.items()}"
      ],
      "execution_count": 57,
      "outputs": []
    },
    {
      "cell_type": "code",
      "metadata": {
        "colab": {
          "base_uri": "https://localhost:8080/"
        },
        "id": "KBsRzF9E9-iV",
        "outputId": "06ffb96c-3523-43ad-f1bd-ac0b88d8e00a"
      },
      "source": [
        "eng_dict"
      ],
      "execution_count": 60,
      "outputs": [
        {
          "output_type": "execute_result",
          "data": {
            "text/plain": [
              "{1: 'tom',\n",
              " 2: 'i',\n",
              " 3: 'you',\n",
              " 4: 'is',\n",
              " 5: 'a',\n",
              " 6: 'it',\n",
              " 7: 'the',\n",
              " 8: 'to',\n",
              " 9: 'im',\n",
              " 10: 'me',\n",
              " 11: 'do',\n",
              " 12: 'that',\n",
              " 13: 'was',\n",
              " 14: 'this',\n",
              " 15: 'he',\n",
              " 16: 'we',\n",
              " 17: 'are',\n",
              " 18: 'my',\n",
              " 19: 'have',\n",
              " 20: 'dont',\n",
              " 21: 'your',\n",
              " 22: 'did',\n",
              " 23: 'its',\n",
              " 24: 'not',\n",
              " 25: 'like',\n",
              " 26: 'can',\n",
              " 27: 'youre',\n",
              " 28: 'go',\n",
              " 29: 'be',\n",
              " 30: 'were',\n",
              " 31: 'here',\n",
              " 32: 'in',\n",
              " 33: 'what',\n",
              " 34: 'she',\n",
              " 35: 'very',\n",
              " 36: 'now',\n",
              " 37: 'they',\n",
              " 38: 'know',\n",
              " 39: 'ill',\n",
              " 40: 'on',\n",
              " 41: 'has',\n",
              " 42: 'isnt',\n",
              " 43: 'cant',\n",
              " 44: 'thats',\n",
              " 45: 'want',\n",
              " 46: 'up',\n",
              " 47: 'for',\n",
              " 48: 'how',\n",
              " 49: 'get',\n",
              " 50: 'need',\n",
              " 51: 'toms',\n",
              " 52: 'come',\n",
              " 53: 'no',\n",
              " 54: 'too',\n",
              " 55: 'at',\n",
              " 56: 'why',\n",
              " 57: 'good',\n",
              " 58: 'who',\n",
              " 59: 'of',\n",
              " 60: 'him',\n",
              " 61: 'help',\n",
              " 62: 'one',\n",
              " 63: 'will',\n",
              " 64: 'us',\n",
              " 65: 'please',\n",
              " 66: 'out',\n",
              " 67: 'all',\n",
              " 68: 'got',\n",
              " 69: 'just',\n",
              " 70: 'his',\n",
              " 71: 'love',\n",
              " 72: 'there',\n",
              " 73: 'well',\n",
              " 74: 'home',\n",
              " 75: 'mary',\n",
              " 76: 'really',\n",
              " 77: 'see',\n",
              " 78: 'with',\n",
              " 79: 'didnt',\n",
              " 80: 'stop',\n",
              " 81: 'look',\n",
              " 82: 'am',\n",
              " 83: 'car',\n",
              " 84: 'never',\n",
              " 85: 'an',\n",
              " 86: 'take',\n",
              " 87: 'hes',\n",
              " 88: 'lets',\n",
              " 89: 'where',\n",
              " 90: 'so',\n",
              " 91: 'her',\n",
              " 92: 'wasnt',\n",
              " 93: 'let',\n",
              " 94: 'back',\n",
              " 95: 'give',\n",
              " 96: 'may',\n",
              " 97: 'work',\n",
              " 98: 'think',\n",
              " 99: 'whats',\n",
              " 100: 'must',\n",
              " 101: 'made',\n",
              " 102: 'had',\n",
              " 103: 'wont',\n",
              " 104: 'theyre',\n",
              " 105: 'eat',\n",
              " 106: 'saw',\n",
              " 107: 'tell',\n",
              " 108: 'ive',\n",
              " 109: 'try',\n",
              " 110: 'still',\n",
              " 111: 'about',\n",
              " 112: 'busy',\n",
              " 113: 'happy',\n",
              " 114: 'likes',\n",
              " 115: 'lost',\n",
              " 116: 'does',\n",
              " 117: 'dog',\n",
              " 118: 'book',\n",
              " 119: 'money',\n",
              " 120: 'again',\n",
              " 121: 'down',\n",
              " 122: 'right',\n",
              " 123: 'leave',\n",
              " 124: 'off',\n",
              " 125: 'going',\n",
              " 126: 'time',\n",
              " 127: 'looks',\n",
              " 128: 'today',\n",
              " 129: 'say',\n",
              " 130: 'bad',\n",
              " 131: 'call',\n",
              " 132: 'keep',\n",
              " 133: 'went',\n",
              " 134: 'them',\n",
              " 135: 'away',\n",
              " 136: 'arent',\n",
              " 137: 'should',\n",
              " 138: 'wheres',\n",
              " 139: 'and',\n",
              " 140: 'our',\n",
              " 141: 'lot',\n",
              " 142: 'wait',\n",
              " 143: 'job',\n",
              " 144: 'came',\n",
              " 145: 'alone',\n",
              " 146: 'feel',\n",
              " 147: 'cold',\n",
              " 148: 'big',\n",
              " 149: 'hate',\n",
              " 150: 'some',\n",
              " 151: 'could',\n",
              " 152: 'new',\n",
              " 153: 'stay',\n",
              " 154: 'make',\n",
              " 155: 'read',\n",
              " 156: 'ask',\n",
              " 157: 'over',\n",
              " 158: 'tired',\n",
              " 159: 'nice',\n",
              " 160: 'old',\n",
              " 161: 'find',\n",
              " 162: 'nobody',\n",
              " 163: 'ok',\n",
              " 164: 'late',\n",
              " 165: 'hard',\n",
              " 166: 'loves',\n",
              " 167: 'much',\n",
              " 168: 'hurt',\n",
              " 169: 'knows',\n",
              " 170: 'said',\n",
              " 171: 'always',\n",
              " 172: 'drink',\n",
              " 173: 'knew',\n",
              " 174: 'talk',\n",
              " 175: 'gave',\n",
              " 176: 'miss',\n",
              " 177: 'already',\n",
              " 178: 'ready',\n",
              " 179: 'man',\n",
              " 180: 'when',\n",
              " 181: 'open',\n",
              " 182: 'room',\n",
              " 183: 'fast',\n",
              " 184: 'looked',\n",
              " 185: 'wants',\n",
              " 186: 'french',\n",
              " 187: 'day',\n",
              " 188: 'put',\n",
              " 189: 'found',\n",
              " 190: 'boston',\n",
              " 191: 'left',\n",
              " 192: 'wrong',\n",
              " 193: 'id',\n",
              " 194: 'these',\n",
              " 195: 'play',\n",
              " 196: 'fun',\n",
              " 197: 'coming',\n",
              " 198: 'seems',\n",
              " 199: 'took',\n",
              " 200: 'more',\n",
              " 201: 'everyone',\n",
              " 202: 'watch',\n",
              " 203: 'hope',\n",
              " 204: 'hungry',\n",
              " 205: 'shes',\n",
              " 206: 'door',\n",
              " 207: 'live',\n",
              " 208: 'whos',\n",
              " 209: 'true',\n",
              " 210: 'house',\n",
              " 211: 'ran',\n",
              " 212: 'angry',\n",
              " 213: 'way',\n",
              " 214: 'yours',\n",
              " 215: 'great',\n",
              " 216: 'would',\n",
              " 217: 'buy',\n",
              " 218: 'turn',\n",
              " 219: 'sick',\n",
              " 220: 'felt',\n",
              " 221: 'hot',\n",
              " 222: 'by',\n",
              " 223: 'almost',\n",
              " 224: 'speak',\n",
              " 225: 'doing',\n",
              " 226: 'nothing',\n",
              " 227: 'yet',\n",
              " 228: 'cat',\n",
              " 229: 'doesnt',\n",
              " 230: 'only',\n",
              " 231: 'youll',\n",
              " 232: 'from',\n",
              " 233: 'died',\n",
              " 234: 'better',\n",
              " 235: 'use',\n",
              " 236: 'bought',\n",
              " 237: 'told',\n",
              " 238: 'fine',\n",
              " 239: 'been',\n",
              " 240: 'life',\n",
              " 241: 'sure',\n",
              " 242: 'early',\n",
              " 243: 'swim',\n",
              " 244: 'sing',\n",
              " 245: 'broke',\n",
              " 246: 'mine',\n",
              " 247: 'school',\n",
              " 248: 'everybody',\n",
              " 249: 'mean',\n",
              " 250: 'tv',\n",
              " 251: 'youve',\n",
              " 252: 'long',\n",
              " 253: 'soon',\n",
              " 254: 'boy',\n",
              " 255: 'needs',\n",
              " 256: 'hair',\n",
              " 257: 'water',\n",
              " 258: 'called',\n",
              " 259: 'something',\n",
              " 260: 'win',\n",
              " 261: 'beer',\n",
              " 262: 'father',\n",
              " 263: 'red',\n",
              " 264: 'met',\n",
              " 265: 'lie',\n",
              " 266: 'heard',\n",
              " 267: 'ate',\n",
              " 268: 'tried',\n",
              " 269: 'as',\n",
              " 270: 'eyes',\n",
              " 271: 'friends',\n",
              " 272: 'drunk',\n",
              " 273: 'bed',\n",
              " 274: 'friend',\n",
              " 275: 'pay',\n",
              " 276: 'rich',\n",
              " 277: 'bit',\n",
              " 278: 'listen',\n",
              " 279: 'trust',\n",
              " 280: 'coffee',\n",
              " 281: 'wanted',\n",
              " 282: 'kept',\n",
              " 283: 'idea',\n",
              " 284: 'name',\n",
              " 285: 'tea',\n",
              " 286: 'teacher',\n",
              " 287: 'run',\n",
              " 288: 'doctor',\n",
              " 289: 'hurry',\n",
              " 290: 'mad',\n",
              " 291: 'dead',\n",
              " 292: 'walk',\n",
              " 293: 'done',\n",
              " 294: 'working',\n",
              " 295: 'quite',\n",
              " 296: 'answer',\n",
              " 297: 'two',\n",
              " 298: 'safe',\n",
              " 299: 'weve',\n",
              " 300: 'bring',\n",
              " 301: 'fish',\n",
              " 302: 'believe',\n",
              " 303: 'cry',\n",
              " 304: 'bus',\n",
              " 305: 'crying',\n",
              " 306: 'watching',\n",
              " 307: 'hit',\n",
              " 308: 'gone',\n",
              " 309: 'hear',\n",
              " 310: 'afraid',\n",
              " 311: 'stupid',\n",
              " 312: 'whose',\n",
              " 313: 'works',\n",
              " 314: 'sit',\n",
              " 315: 'started',\n",
              " 316: 'married',\n",
              " 317: 'show',\n",
              " 318: 'stopped',\n",
              " 319: 'quiet',\n",
              " 320: 'lives',\n",
              " 321: 'sad',\n",
              " 322: 'easy',\n",
              " 323: 'hat',\n",
              " 324: 'both',\n",
              " 325: 'those',\n",
              " 326: 'enough',\n",
              " 327: 'everything',\n",
              " 328: 'getting',\n",
              " 329: 'won',\n",
              " 330: 'next',\n",
              " 331: 'sleep',\n",
              " 332: 'food',\n",
              " 333: 'books',\n",
              " 334: 'family',\n",
              " 335: 'study',\n",
              " 336: 'drive',\n",
              " 337: 'start',\n",
              " 338: 'wife',\n",
              " 339: 'die',\n",
              " 340: 'forget',\n",
              " 341: 'sorry',\n",
              " 342: 'yourself',\n",
              " 343: 'upset',\n",
              " 344: 'sat',\n",
              " 345: 'three',\n",
              " 346: 'free',\n",
              " 347: 'cook',\n",
              " 348: 'crazy',\n",
              " 349: 'night',\n",
              " 350: 'asleep',\n",
              " 351: 'milk',\n",
              " 352: 'hates',\n",
              " 353: 'tomorrow',\n",
              " 354: 'plan',\n",
              " 355: 'phone',\n",
              " 356: 'seemed',\n",
              " 357: 'became',\n",
              " 358: 'wine',\n",
              " 359: 'once',\n",
              " 360: 'kids',\n",
              " 361: 'often',\n",
              " 362: 'outside',\n",
              " 363: 'might',\n",
              " 364: 'changed',\n",
              " 365: 'lying',\n",
              " 366: 'scared',\n",
              " 367: 'asked',\n",
              " 368: 'wrote',\n",
              " 369: 'pretty',\n",
              " 370: 'people',\n",
              " 371: 'any',\n",
              " 372: 'real',\n",
              " 373: 'first',\n",
              " 374: 'loved',\n",
              " 375: 'problem',\n",
              " 376: 'happened',\n",
              " 377: 'enjoy',\n",
              " 378: 'seen',\n",
              " 379: 'change',\n",
              " 380: 'shoes',\n",
              " 381: 'thanks',\n",
              " 382: 'kind',\n",
              " 383: 'follow',\n",
              " 384: 'eating',\n",
              " 385: 'owe',\n",
              " 386: 'young',\n",
              " 387: 'kiss',\n",
              " 388: 'hands',\n",
              " 389: 'anyone',\n",
              " 390: 'nervous',\n",
              " 391: 'theres',\n",
              " 392: 'meet',\n",
              " 393: 'anything',\n",
              " 394: 'hand',\n",
              " 395: 'son',\n",
              " 396: 'tall',\n",
              " 397: 'shot',\n",
              " 398: 'missed',\n",
              " 399: 'quickly',\n",
              " 400: 'hold',\n",
              " 401: 'check',\n",
              " 402: 'lunch',\n",
              " 403: 'wish',\n",
              " 404: 'best',\n",
              " 405: 'running',\n",
              " 406: 'key',\n",
              " 407: 'heres',\n",
              " 408: 'began',\n",
              " 409: 'serious',\n",
              " 410: 'remember',\n",
              " 411: 'quit',\n",
              " 412: 'stand',\n",
              " 413: 'close',\n",
              " 414: 'mind',\n",
              " 415: 'joke',\n",
              " 416: 'reading',\n",
              " 417: 'little',\n",
              " 418: 'kill',\n",
              " 419: 'inside',\n",
              " 420: 'liked',\n",
              " 421: 'many',\n",
              " 422: 'happen',\n",
              " 423: 'caught',\n",
              " 424: 'agree',\n",
              " 425: 'dogs',\n",
              " 426: 'itll',\n",
              " 427: 'break',\n",
              " 428: 'cats',\n",
              " 429: 'funny',\n",
              " 430: 'singing',\n",
              " 431: 'sweet',\n",
              " 432: 'couldnt',\n",
              " 433: 'hurts',\n",
              " 434: 'around',\n",
              " 435: 'careful',\n",
              " 436: 'looking',\n",
              " 437: 'which',\n",
              " 438: 'fire',\n",
              " 439: 'fell',\n",
              " 440: 'touch',\n",
              " 441: 'dark',\n",
              " 442: 'lawyer',\n",
              " 443: 'small',\n",
              " 444: 'worried',\n",
              " 445: 'turned',\n",
              " 446: 'move',\n",
              " 447: 'later',\n",
              " 448: 'rest',\n",
              " 449: 'understand',\n",
              " 450: 'arrived',\n",
              " 451: 'sister',\n",
              " 452: 'lied',\n",
              " 453: 'cool',\n",
              " 454: 'shut',\n",
              " 455: 'helped',\n",
              " 456: 'laughed',\n",
              " 457: 'bored',\n",
              " 458: 'thank',\n",
              " 459: 'brother',\n",
              " 460: 'hows',\n",
              " 461: 'seat',\n",
              " 462: 'bag',\n",
              " 463: 'black',\n",
              " 464: 'maybe',\n",
              " 465: 'mother',\n",
              " 466: 'else',\n",
              " 467: 'after',\n",
              " 468: 'keys',\n",
              " 469: 'fat',\n",
              " 470: 'glad',\n",
              " 471: 'even',\n",
              " 472: 'lucky',\n",
              " 473: 'dinner',\n",
              " 474: 'word',\n",
              " 475: 'being',\n",
              " 476: 'used',\n",
              " 477: 'perfect',\n",
              " 478: 'awake',\n",
              " 479: 'walked',\n",
              " 480: 'simple',\n",
              " 481: 'dance',\n",
              " 482: 'dream',\n",
              " 483: 'ones',\n",
              " 484: 'yes',\n",
              " 485: 'talking',\n",
              " 486: 'truth',\n",
              " 487: 'into',\n",
              " 488: 'born',\n",
              " 489: 'smart',\n",
              " 490: 'girl',\n",
              " 491: 'anybody',\n",
              " 492: 'someone',\n",
              " 493: 'horse',\n",
              " 494: 'fault',\n",
              " 495: 'guys',\n",
              " 496: 'yesterday',\n",
              " 497: 'worked',\n",
              " 498: 'cut',\n",
              " 499: 'smoke',\n",
              " 500: 'short',\n",
              " 501: 'sounds',\n",
              " 502: 'killed',\n",
              " 503: 'paid',\n",
              " 504: 'write',\n",
              " 505: 'calm',\n",
              " 506: 'sign',\n",
              " 507: 'clean',\n",
              " 508: 'jealous',\n",
              " 509: 'theyll',\n",
              " 510: 'dirty',\n",
              " 511: 'english',\n",
              " 512: 'boss',\n",
              " 513: 'heart',\n",
              " 514: 'care',\n",
              " 515: 'beat',\n",
              " 516: 'cute',\n",
              " 517: 'bet',\n",
              " 518: 'last',\n",
              " 519: 'another',\n",
              " 520: 'music',\n",
              " 521: 'canadian',\n",
              " 522: 'joking',\n",
              " 523: 'closed',\n",
              " 524: 'needed',\n",
              " 525: 'own',\n",
              " 526: 'cannot',\n",
              " 527: 'confused',\n",
              " 528: 'shy',\n",
              " 529: 'fired',\n",
              " 530: 'poor',\n",
              " 531: 'face',\n",
              " 532: 'hey',\n",
              " 533: 'pen',\n",
              " 534: 'student',\n",
              " 535: 'says',\n",
              " 536: 'youd',\n",
              " 537: 'makes',\n",
              " 538: 'train',\n",
              " 539: 'story',\n",
              " 540: 'spoke',\n",
              " 541: 'smiled',\n",
              " 542: 'full',\n",
              " 543: 'head',\n",
              " 544: 'far',\n",
              " 545: 'white',\n",
              " 546: 'count',\n",
              " 547: 'bread',\n",
              " 548: 'blue',\n",
              " 549: 'rain',\n",
              " 550: 'cake',\n",
              " 551: 'monday',\n",
              " 552: 'sleeping',\n",
              " 553: 'box',\n",
              " 554: 'news',\n",
              " 555: 'light',\n",
              " 556: 'glasses',\n",
              " 557: 'person',\n",
              " 558: 'stood',\n",
              " 559: 'lonely',\n",
              " 560: 'kidding',\n",
              " 561: 'thirsty',\n",
              " 562: 'lose',\n",
              " 563: 'guy',\n",
              " 564: 'fair',\n",
              " 565: 'stayed',\n",
              " 566: 'lazy',\n",
              " 567: 'dying',\n",
              " 568: 'warm',\n",
              " 569: 'sleepy',\n",
              " 570: 'strong',\n",
              " 571: 'alive',\n",
              " 572: 'broken',\n",
              " 573: 'secret',\n",
              " 574: 'invited',\n",
              " 575: 'finished',\n",
              " 576: 'mom',\n",
              " 577: 'order',\n",
              " 578: 'seem',\n",
              " 579: 'himself',\n",
              " 580: 'brave',\n",
              " 581: 'snow',\n",
              " 582: 'correct',\n",
              " 583: 'explain',\n",
              " 584: 'apple',\n",
              " 585: 'bike',\n",
              " 586: 'somebody',\n",
              " 587: 'bicycle',\n",
              " 588: 'fix',\n",
              " 589: 'men',\n",
              " 590: 'feet',\n",
              " 591: 'things',\n",
              " 592: 'or',\n",
              " 593: 'throw',\n",
              " 594: 'opened',\n",
              " 595: 'knife',\n",
              " 596: 'week',\n",
              " 597: 'trouble',\n",
              " 598: 'every',\n",
              " 599: 'children',\n",
              " 600: 'cried',\n",
              " 601: 'weak',\n",
              " 602: 'fly',\n",
              " 603: 'slept',\n",
              " 604: 'meat',\n",
              " 605: 'send',\n",
              " 606: 'myself',\n",
              " 607: 'pizza',\n",
              " 608: 'empty',\n",
              " 609: 'writing',\n",
              " 610: 'beautiful',\n",
              " 611: 'surprised',\n",
              " 612: 'excited',\n",
              " 613: 'than',\n",
              " 614: 'wouldnt',\n",
              " 615: 'waited',\n",
              " 616: 'patient',\n",
              " 617: 'boring',\n",
              " 618: 'ice',\n",
              " 619: 'strange',\n",
              " 620: 'blame',\n",
              " 621: 'child',\n",
              " 622: 'leaving',\n",
              " 623: 'kissed',\n",
              " 624: 'thought',\n",
              " 625: 'song',\n",
              " 626: 'betrayed',\n",
              " 627: 'wear',\n",
              " 628: 'wake',\n",
              " 629: 'failed',\n",
              " 630: 'forgot',\n",
              " 631: 'talked',\n",
              " 632: 'guess',\n",
              " 633: 'liar',\n",
              " 634: 'curious',\n",
              " 635: 'saved',\n",
              " 636: 'pain',\n",
              " 637: 'gets',\n",
              " 638: 'gun',\n",
              " 639: 'girls',\n",
              " 640: 'table',\n",
              " 641: 'question',\n",
              " 642: 'shoot',\n",
              " 643: 'hug',\n",
              " 644: 'sang',\n",
              " 645: 'drank',\n",
              " 646: 'harder',\n",
              " 647: 'war',\n",
              " 648: 'woman',\n",
              " 649: 'tennis',\n",
              " 650: 'rules',\n",
              " 651: 'whatll',\n",
              " 652: 'picture',\n",
              " 653: 'tie',\n",
              " 654: 'ever',\n",
              " 655: 'catch',\n",
              " 656: 'ahead',\n",
              " 657: 'age',\n",
              " 658: 'sent',\n",
              " 659: 'coat',\n",
              " 660: 'japanese',\n",
              " 661: 'taxi',\n",
              " 662: 'trusted',\n",
              " 663: 'laughing',\n",
              " 664: 'letter',\n",
              " 665: 'making',\n",
              " 666: 'taking',\n",
              " 667: 'voice',\n",
              " 668: 'thing',\n",
              " 669: 'wet',\n",
              " 670: 'welcome',\n",
              " 671: 'duty',\n",
              " 672: 'drives',\n",
              " 673: 'boys',\n",
              " 674: 'upstairs',\n",
              " 675: 'nose',\n",
              " 676: 'important',\n",
              " 677: 'danger',\n",
              " 678: 'together',\n",
              " 679: 'honest',\n",
              " 680: 'second',\n",
              " 681: 'party',\n",
              " 682: 'badly',\n",
              " 683: 'decision',\n",
              " 684: 'tonight',\n",
              " 685: 'thirty',\n",
              " 686: 'pick',\n",
              " 687: 'worry',\n",
              " 688: 'deny',\n",
              " 689: 'watched',\n",
              " 690: 'apples',\n",
              " 691: 'arm',\n",
              " 692: 'listening',\n",
              " 693: 'worse',\n",
              " 694: 'possible',\n",
              " 695: 'baby',\n",
              " 696: 'fishing',\n",
              " 697: 'park',\n",
              " 698: 'behind',\n",
              " 699: 'movie',\n",
              " 700: 'believes',\n",
              " 701: 'mistake',\n",
              " 702: 'shirt',\n",
              " 703: 'wearing',\n",
              " 704: 'begin',\n",
              " 705: 'tomll',\n",
              " 706: 'god',\n",
              " 707: 'fit',\n",
              " 708: 'laugh',\n",
              " 709: 'eggs',\n",
              " 710: 'learn',\n",
              " 711: 'smoking',\n",
              " 712: 'downstairs',\n",
              " 713: 'normal',\n",
              " 714: 'six',\n",
              " 715: 'ball',\n",
              " 716: 'playing',\n",
              " 717: 'pleased',\n",
              " 718: 'window',\n",
              " 719: 'place',\n",
              " 720: '230',\n",
              " 721: 'sound',\n",
              " 722: 'smile',\n",
              " 723: 'save',\n",
              " 724: 'cheated',\n",
              " 725: 'woke',\n",
              " 726: 'blind',\n",
              " 727: 'ours',\n",
              " 728: 'step',\n",
              " 729: 'smell',\n",
              " 730: 'dad',\n",
              " 731: 'naive',\n",
              " 732: 'shall',\n",
              " 733: 'map',\n",
              " 734: 'kid',\n",
              " 735: 'expert',\n",
              " 736: 'bird',\n",
              " 737: 'comes',\n",
              " 738: 'boat',\n",
              " 739: 'cup',\n",
              " 740: 'same',\n",
              " 741: 'such',\n",
              " 742: 'speaks',\n",
              " 743: 'choice',\n",
              " 744: 'bank',\n",
              " 745: 'drove',\n",
              " 746: 'ugly',\n",
              " 747: 'warn',\n",
              " 748: 'weird',\n",
              " 749: 'tough',\n",
              " 750: 'forgive',\n",
              " 751: 'clever',\n",
              " 752: 'vote',\n",
              " 753: 'luck',\n",
              " 754: 'dancing',\n",
              " 755: 'slow',\n",
              " 756: 'dress',\n",
              " 757: 'smells',\n",
              " 758: 'parents',\n",
              " 759: 'truck',\n",
              " 760: 'worth',\n",
              " 761: 'desk',\n",
              " 762: 'advice',\n",
              " 763: 'swimming',\n",
              " 764: 'afford',\n",
              " 765: 'if',\n",
              " 766: 'legs',\n",
              " 767: 'pencil',\n",
              " 768: 'driver',\n",
              " 769: 'rude',\n",
              " 770: 'agreed',\n",
              " 771: 'slowly',\n",
              " 772: 'winning',\n",
              " 773: 'talks',\n",
              " 774: 'stole',\n",
              " 775: 'jokes',\n",
              " 776: 'meant',\n",
              " 777: 'guilty',\n",
              " 778: 'pale',\n",
              " 779: 'cooking',\n",
              " 780: 'waiting',\n",
              " 781: 'enemy',\n",
              " 782: 'bill',\n",
              " 783: 'feeling',\n",
              " 784: 'marys',\n",
              " 785: 'werent',\n",
              " 786: 'whatre',\n",
              " 787: 'game',\n",
              " 788: 'promise',\n",
              " 789: 'moved',\n",
              " 790: 'along',\n",
              " 791: 'air',\n",
              " 792: 'famous',\n",
              " 793: 'eaten',\n",
              " 794: 'contact',\n",
              " 795: 'hated',\n",
              " 796: 'locked',\n",
              " 797: 'half',\n",
              " 798: 'studying',\n",
              " 799: 'snowing',\n",
              " 800: 'impressed',\n",
              " 801: 'missing',\n",
              " 802: 'succeed',\n",
              " 803: 'city',\n",
              " 804: 'their',\n",
              " 805: 'summer',\n",
              " 806: 'brothers',\n",
              " 807: 'removed',\n",
              " 808: 'havent',\n",
              " 809: 'message',\n",
              " 810: 'before',\n",
              " 811: 'mood',\n",
              " 812: 'other',\n",
              " 813: 'hi',\n",
              " 814: 'rice',\n",
              " 815: 'return',\n",
              " 816: 'bath',\n",
              " 817: 'hugged',\n",
              " 818: 'sell',\n",
              " 819: 'set',\n",
              " 820: 'fed',\n",
              " 821: 'artist',\n",
              " 822: 'minute',\n",
              " 823: 'warned',\n",
              " 824: 'polite',\n",
              " 825: 'golf',\n",
              " 826: 'believed',\n",
              " 827: 'handle',\n",
              " 828: 'wore',\n",
              " 829: 'trip',\n",
              " 830: 'everyones',\n",
              " 831: 'proud',\n",
              " 832: 'expensive',\n",
              " 833: 'relax',\n",
              " 834: 'drop',\n",
              " 835: 'wash',\n",
              " 836: 'dry',\n",
              " 837: 'moving',\n",
              " 838: 'hero',\n",
              " 839: 'green',\n",
              " 840: 'thatll',\n",
              " 841: 'fight',\n",
              " 842: 'cash',\n",
              " 843: 'unlucky',\n",
              " 844: 'noticed',\n",
              " 845: 'rarely',\n",
              " 846: 'fighting',\n",
              " 847: 'raining',\n",
              " 848: 'answered',\n",
              " 849: 'hide',\n",
              " 850: 'horses',\n",
              " 851: 'depressed',\n",
              " 852: 'saying',\n",
              " 853: 'moment',\n",
              " 854: 'raised',\n",
              " 855: 'death',\n",
              " 856: 'accept',\n",
              " 857: 'enjoyed',\n",
              " 858: 'diary',\n",
              " 859: 'interested',\n",
              " 860: 'plays',\n",
              " 861: 'barely',\n",
              " 862: 'camera',\n",
              " 863: 'cheap',\n",
              " 864: 'chance',\n",
              " 865: 'breakfast',\n",
              " 866: 'longer',\n",
              " 867: 'runs',\n",
              " 868: 'deep',\n",
              " 869: 'retired',\n",
              " 870: 'ignore',\n",
              " 871: 'jump',\n",
              " 872: 'losing',\n",
              " 873: 'scream',\n",
              " 874: 'nurse',\n",
              " 875: 'healthy',\n",
              " 876: 'list',\n",
              " 877: 'nuts',\n",
              " 878: 'mess',\n",
              " 879: 'team',\n",
              " 880: 'ship',\n",
              " 881: 'naked',\n",
              " 882: 'women',\n",
              " 883: 'piano',\n",
              " 884: 'seldom',\n",
              " 885: 'fool',\n",
              " 886: 'coward',\n",
              " 887: 'singer',\n",
              " 888: 'heavy',\n",
              " 889: 'scare',\n",
              " 890: 'chess',\n",
              " 891: 'cars',\n",
              " 892: 'line',\n",
              " 893: 'satisfied',\n",
              " 894: 'helping',\n",
              " 895: 'amazing',\n",
              " 896: 'cousins',\n",
              " 897: 'point',\n",
              " 898: 'high',\n",
              " 899: 'bananas',\n",
              " 900: 'having',\n",
              " 901: 'hour',\n",
              " 902: 'noise',\n",
              " 903: 'soccer',\n",
              " 904: 'terrible',\n",
              " 905: 'regret',\n",
              " 906: 'join',\n",
              " 907: 'helps',\n",
              " 908: 'birds',\n",
              " 909: 'excuse',\n",
              " 910: 'approve',\n",
              " 911: 'choose',\n",
              " 912: 'built',\n",
              " 913: 'fixed',\n",
              " 914: 'prepared',\n",
              " 915: 'closer',\n",
              " 916: 'math',\n",
              " 917: 'gas',\n",
              " 918: 'wealthy',\n",
              " 919: 'wounded',\n",
              " 920: 'trying',\n",
              " 921: 'deserve',\n",
              " 922: 'proof',\n",
              " 923: 'sugar',\n",
              " 924: 'cab',\n",
              " 925: 'walking',\n",
              " 926: 'smiling',\n",
              " 927: 'apologize',\n",
              " 928: 'few',\n",
              " 929: 'annoying',\n",
              " 930: 'nobodys',\n",
              " 931: 'shower',\n",
              " 932: 'risk',\n",
              " 933: 'skinny',\n",
              " 934: 'notice',\n",
              " 935: 'also',\n",
              " 936: 'homesick',\n",
              " 937: 'delicious',\n",
              " 938: 'doors',\n",
              " 939: 'drinking',\n",
              " 940: 'carefully',\n",
              " 941: 'expect',\n",
              " 942: 'mouth',\n",
              " 943: 'each',\n",
              " 944: 'weight',\n",
              " 945: 'cousin',\n",
              " 946: 'exam',\n",
              " 947: 'australia',\n",
              " 948: 'protect',\n",
              " 949: 'probably',\n",
              " 950: 'address',\n",
              " 951: 'clothes',\n",
              " 952: 'lock',\n",
              " 953: 'stuck',\n",
              " 954: 'town',\n",
              " 955: 'shocked',\n",
              " 956: 'law',\n",
              " 957: 'useless',\n",
              " 958: 'loud',\n",
              " 959: 'older',\n",
              " 960: 'admire',\n",
              " 961: 'ears',\n",
              " 962: 'bleeding',\n",
              " 963: 'driving',\n",
              " 964: 'goes',\n",
              " 965: 'yelling',\n",
              " 966: 'followed',\n",
              " 967: 'flowers',\n",
              " 968: 'dangerous',\n",
              " 969: 'tree',\n",
              " 970: 'brown',\n",
              " 971: 'end',\n",
              " 972: 'abroad',\n",
              " 973: 'paper',\n",
              " 974: 'nonsense',\n",
              " 975: 'act',\n",
              " 976: 'travel',\n",
              " 977: 'rather',\n",
              " 978: 'students',\n",
              " 979: 'husband',\n",
              " 980: 'studied',\n",
              " 981: 'brought',\n",
              " 982: 'cap',\n",
              " 983: 'office',\n",
              " 984: 'wasting',\n",
              " 985: 'hello',\n",
              " 986: 'cruel',\n",
              " 987: 'hiding',\n",
              " 988: 'sharp',\n",
              " 989: 'lips',\n",
              " 990: 'unusual',\n",
              " 991: 'bite',\n",
              " 992: 'egg',\n",
              " 993: 'ten',\n",
              " 994: 'teach',\n",
              " 995: 'genius',\n",
              " 996: 'innocent',\n",
              " 997: 'pass',\n",
              " 998: 'theyve',\n",
              " 999: 'visit',\n",
              " 1000: 'different',\n",
              " ...}"
            ]
          },
          "metadata": {
            "tags": []
          },
          "execution_count": 60
        }
      ]
    },
    {
      "cell_type": "code",
      "metadata": {
        "id": "fyT5g-fv-1g8"
      },
      "source": [
        "eng_preds=[]\n",
        "for p in preds:\n",
        "  sent=[]\n",
        "  for t in p:\n",
        "    if t>0:\n",
        "      w=eng_dict.get(t)\n",
        "      sent.append(w)\n",
        "    \n",
        "  eng_preds.append(\" \".join(sent))"
      ],
      "execution_count": 63,
      "outputs": []
    },
    {
      "cell_type": "code",
      "metadata": {
        "id": "CYqRTKlm_SnR"
      },
      "source": [
        ""
      ],
      "execution_count": null,
      "outputs": []
    },
    {
      "cell_type": "code",
      "metadata": {
        "id": "4GnUOnpMAo4Y"
      },
      "source": [
        "perds_df=pd.DataFrame({\"actual_eng_words\":test[:,0],\"actual_german_words\":test[:,1],\"predicted_eng_words\":eng_preds})"
      ],
      "execution_count": 67,
      "outputs": []
    },
    {
      "cell_type": "code",
      "metadata": {
        "colab": {
          "base_uri": "https://localhost:8080/",
          "height": 514
        },
        "id": "NADgLajdAo8j",
        "outputId": "0481f55f-c7d0-4363-80bc-87a8b3cb603f"
      },
      "source": [
        "perds_df[:15]"
      ],
      "execution_count": 69,
      "outputs": [
        {
          "output_type": "execute_result",
          "data": {
            "text/html": [
              "<div>\n",
              "<style scoped>\n",
              "    .dataframe tbody tr th:only-of-type {\n",
              "        vertical-align: middle;\n",
              "    }\n",
              "\n",
              "    .dataframe tbody tr th {\n",
              "        vertical-align: top;\n",
              "    }\n",
              "\n",
              "    .dataframe thead th {\n",
              "        text-align: right;\n",
              "    }\n",
              "</style>\n",
              "<table border=\"1\" class=\"dataframe\">\n",
              "  <thead>\n",
              "    <tr style=\"text-align: right;\">\n",
              "      <th></th>\n",
              "      <th>actual_eng_words</th>\n",
              "      <th>actual_german_words</th>\n",
              "      <th>predicted_eng_words</th>\n",
              "    </tr>\n",
              "  </thead>\n",
              "  <tbody>\n",
              "    <tr>\n",
              "      <th>0</th>\n",
              "      <td>weve all done it</td>\n",
              "      <td>wir haben es alle geschafft</td>\n",
              "      <td>we all did it</td>\n",
              "    </tr>\n",
              "    <tr>\n",
              "      <th>1</th>\n",
              "      <td>you guys messed up</td>\n",
              "      <td>ihr habt es vermasselt</td>\n",
              "      <td>you tried it</td>\n",
              "    </tr>\n",
              "    <tr>\n",
              "      <th>2</th>\n",
              "      <td>we were clueless</td>\n",
              "      <td>wir waren ahnungslos</td>\n",
              "      <td>we were stranded</td>\n",
              "    </tr>\n",
              "    <tr>\n",
              "      <th>3</th>\n",
              "      <td>im still hungry</td>\n",
              "      <td>ich habe immer noch hunger</td>\n",
              "      <td>im always hungry</td>\n",
              "    </tr>\n",
              "    <tr>\n",
              "      <th>4</th>\n",
              "      <td>you lied to me again</td>\n",
              "      <td>du hast mich schon wieder angelogen</td>\n",
              "      <td>you lied to me me</td>\n",
              "    </tr>\n",
              "    <tr>\n",
              "      <th>5</th>\n",
              "      <td>tom was exhausted</td>\n",
              "      <td>tom war erschöpft</td>\n",
              "      <td>tom was loud</td>\n",
              "    </tr>\n",
              "    <tr>\n",
              "      <th>6</th>\n",
              "      <td>tom slept in the car</td>\n",
              "      <td>tom schlief im auto</td>\n",
              "      <td>tom slept in the car</td>\n",
              "    </tr>\n",
              "    <tr>\n",
              "      <th>7</th>\n",
              "      <td>tom looks sleepy</td>\n",
              "      <td>tom sieht müde aus</td>\n",
              "      <td>tom looks tired</td>\n",
              "    </tr>\n",
              "    <tr>\n",
              "      <th>8</th>\n",
              "      <td>we met at a party</td>\n",
              "      <td>wir haben uns auf einem fest kennengelernt</td>\n",
              "      <td>we met up a</td>\n",
              "    </tr>\n",
              "    <tr>\n",
              "      <th>9</th>\n",
              "      <td>you cant buy that</td>\n",
              "      <td>das kann man nicht kaufen</td>\n",
              "      <td>you cant buy this</td>\n",
              "    </tr>\n",
              "    <tr>\n",
              "      <th>10</th>\n",
              "      <td>that was sweet</td>\n",
              "      <td>das war ganz reizend</td>\n",
              "      <td>it was cheap</td>\n",
              "    </tr>\n",
              "    <tr>\n",
              "      <th>11</th>\n",
              "      <td>tom was sewing</td>\n",
              "      <td>tom war am nähen</td>\n",
              "      <td>tom was already</td>\n",
              "    </tr>\n",
              "    <tr>\n",
              "      <th>12</th>\n",
              "      <td>come downstairs</td>\n",
              "      <td>komm runter</td>\n",
              "      <td>get down</td>\n",
              "    </tr>\n",
              "    <tr>\n",
              "      <th>13</th>\n",
              "      <td>do you like the piano</td>\n",
              "      <td>gefällt euch das piano</td>\n",
              "      <td>do you like the piano</td>\n",
              "    </tr>\n",
              "    <tr>\n",
              "      <th>14</th>\n",
              "      <td>its over</td>\n",
              "      <td>es ist vorbei</td>\n",
              "      <td>its over</td>\n",
              "    </tr>\n",
              "  </tbody>\n",
              "</table>\n",
              "</div>"
            ],
            "text/plain": [
              "         actual_eng_words  ...    predicted_eng_words\n",
              "0        weve all done it  ...          we all did it\n",
              "1      you guys messed up  ...           you tried it\n",
              "2        we were clueless  ...       we were stranded\n",
              "3         im still hungry  ...       im always hungry\n",
              "4    you lied to me again  ...      you lied to me me\n",
              "5       tom was exhausted  ...           tom was loud\n",
              "6    tom slept in the car  ...   tom slept in the car\n",
              "7        tom looks sleepy  ...        tom looks tired\n",
              "8       we met at a party  ...            we met up a\n",
              "9       you cant buy that  ...      you cant buy this\n",
              "10         that was sweet  ...           it was cheap\n",
              "11         tom was sewing  ...        tom was already\n",
              "12        come downstairs  ...               get down\n",
              "13  do you like the piano  ...  do you like the piano\n",
              "14               its over  ...               its over\n",
              "\n",
              "[15 rows x 3 columns]"
            ]
          },
          "metadata": {
            "tags": []
          },
          "execution_count": 69
        }
      ]
    },
    {
      "cell_type": "code",
      "metadata": {
        "id": "tD9gHrx-ApA2"
      },
      "source": [
        ""
      ],
      "execution_count": null,
      "outputs": []
    },
    {
      "cell_type": "code",
      "metadata": {
        "id": "P0LbRv21ApEI"
      },
      "source": [
        ""
      ],
      "execution_count": null,
      "outputs": []
    },
    {
      "cell_type": "code",
      "metadata": {
        "id": "OgsZ5JZBApHI"
      },
      "source": [
        ""
      ],
      "execution_count": null,
      "outputs": []
    },
    {
      "cell_type": "code",
      "metadata": {
        "id": "XAOpgyTgApKE"
      },
      "source": [
        "#deu_dict.wrd_index me se words ka index lelo or or index ko model.predict me de do \n",
        "# or phir same vector to word"
      ],
      "execution_count": 64,
      "outputs": []
    },
    {
      "cell_type": "code",
      "metadata": {
        "id": "qBg3UEulApN_"
      },
      "source": [
        ""
      ],
      "execution_count": null,
      "outputs": []
    }
  ]
}